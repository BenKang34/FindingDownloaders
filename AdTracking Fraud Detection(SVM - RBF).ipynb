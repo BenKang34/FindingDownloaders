{
 "cells": [
  {
   "cell_type": "markdown",
   "metadata": {},
   "source": [
    "# TalkingData AdTracking Fraud Detection Challenge\n",
    "\n",
    "https://www.kaggle.com/c/talkingdata-adtracking-fraud-detection\n",
    "\n",
    "Fraud risk is everywhere, but for companies that advertise online, click fraud can happen at an overwhelming volume, resulting in misleading click data and wasted money. Ad channels can drive up costs by simply clicking on the ad at a large scale. With over 1 billion smart mobile devices in active use every month, China is the largest mobile market in the world and therefore suffers from huge volumes of fradulent traffic.\n",
    "\n",
    "TalkingData, China’s largest independent big data service platform, covers over 70% of active mobile devices nationwide. They handle 3 billion clicks per day, of which 90% are potentially fraudulent. Their current approach to prevent click fraud for app developers is to measure the journey of a user’s click across their portfolio, and flag IP addresses who produce lots of clicks, but never end up installing apps. With this information, they've built an IP blacklist and device blacklist.\n",
    "\n",
    "While successful, they want to always be one step ahead of fraudsters and have turned to the Kaggle community for help in further developing their solution. In their 2nd competition with Kaggle, **you’re challenged to build an algorithm that predicts whether a user will download an app after clicking a mobile app ad.** To support your modeling, they have provided a generous dataset covering approximately 200 million clicks over 4 days!"
   ]
  },
  {
   "cell_type": "markdown",
   "metadata": {},
   "source": [
    "### Clean data"
   ]
  },
  {
   "cell_type": "code",
   "execution_count": 1,
   "metadata": {},
   "outputs": [
    {
     "name": "stdout",
     "output_type": "stream",
     "text": [
      "<class 'pandas.core.frame.DataFrame'>\n",
      "RangeIndex: 1500000 entries, 0 to 1499999\n",
      "Data columns (total 76 columns):\n",
      "record              1500000 non-null int64\n",
      "channelIp10s        1500000 non-null int64\n",
      "channelIp3s         1500000 non-null int64\n",
      "channelApp10s       1500000 non-null int64\n",
      "channelApp3s        1500000 non-null int64\n",
      "channelDevice10s    1500000 non-null int64\n",
      "channelDevice3s     1500000 non-null int64\n",
      "channelOs10s        1500000 non-null int64\n",
      "channelOs3s         1500000 non-null int64\n",
      "osIp10s             1500000 non-null int64\n",
      "osIp3s              1500000 non-null int64\n",
      "osApp10s            1500000 non-null int64\n",
      "osApp3s             1500000 non-null int64\n",
      "osDevice10s         1500000 non-null int64\n",
      "osDevice3s          1500000 non-null int64\n",
      "osChannel10s        1500000 non-null int64\n",
      "osChannel3s         1500000 non-null int64\n",
      "deviceIp1s          1500000 non-null int64\n",
      "deviceApp1s         1500000 non-null int64\n",
      "deviceOs1s          1500000 non-null int64\n",
      "deviceChannel1s     1500000 non-null int64\n",
      "appIp10s            1500000 non-null int64\n",
      "appIp3s             1500000 non-null int64\n",
      "appDevice10s        1500000 non-null int64\n",
      "appDevice3s         1500000 non-null int64\n",
      "appOs10s            1500000 non-null int64\n",
      "appOs3s             1500000 non-null int64\n",
      "appChannel10s       1500000 non-null int64\n",
      "appChannel3s        1500000 non-null int64\n",
      "ipApp10s            1500000 non-null int64\n",
      "ipApp3s             1500000 non-null int64\n",
      "ipDevice10s         1500000 non-null int64\n",
      "ipDevice3s          1500000 non-null int64\n",
      "ipOs10s             1500000 non-null int64\n",
      "ipOs3s              1500000 non-null int64\n",
      "ipChannel10s        1500000 non-null int64\n",
      "ipChannel3s         1500000 non-null int64\n",
      "hour                1500000 non-null int64\n",
      "hourAttrib          1500000 non-null float64\n",
      "channel             1500000 non-null int64\n",
      "channelAttrib       1500000 non-null float64\n",
      "os                  1500000 non-null int64\n",
      "osAttrib            1500000 non-null float64\n",
      "device              1500000 non-null int64\n",
      "deviceAttrib        1500000 non-null float64\n",
      "app                 1500000 non-null int64\n",
      "appAttrib           1500000 non-null float64\n",
      "ip                  1500000 non-null int64\n",
      "ipAttrib            1500000 non-null float64\n",
      "click_time          1500000 non-null object\n",
      "is_attributed       1500000 non-null int64\n",
      "ip60s               1500000 non-null int64\n",
      "ip30s               1500000 non-null int64\n",
      "ip10s               1500000 non-null int64\n",
      "ip3s                1500000 non-null int64\n",
      "ip1s                1500000 non-null int64\n",
      "app60s              1500000 non-null int64\n",
      "app30s              1500000 non-null int64\n",
      "app10s              1500000 non-null int64\n",
      "app3s               1500000 non-null int64\n",
      "app1s               1500000 non-null int64\n",
      "device60s           1500000 non-null int64\n",
      "device30s           1500000 non-null int64\n",
      "device10s           1500000 non-null int64\n",
      "device3s            1500000 non-null int64\n",
      "device1s            1500000 non-null int64\n",
      "os60s               1500000 non-null int64\n",
      "os30s               1500000 non-null int64\n",
      "os10s               1500000 non-null int64\n",
      "os3s                1500000 non-null int64\n",
      "os1s                1500000 non-null int64\n",
      "channel60s          1500000 non-null int64\n",
      "channel30s          1500000 non-null int64\n",
      "channel10s          1500000 non-null int64\n",
      "channel3s           1500000 non-null int64\n",
      "channel1s           1500000 non-null int64\n",
      "dtypes: float64(6), int64(69), object(1)\n",
      "memory usage: 869.8+ MB\n"
     ]
    }
   ],
   "source": [
    "import pandas as pd\n",
    "\n",
    "#read data by pandas\n",
    "df = pd.read_csv('train_all.csv')\n",
    "df.info()"
   ]
  },
  {
   "cell_type": "code",
   "execution_count": 2,
   "metadata": {},
   "outputs": [
    {
     "name": "stdout",
     "output_type": "stream",
     "text": [
      "[0 0 0 0 0 0 0 0 0 0]\n",
      "   appIp3s  appDevice10s  appDevice3s  appOs10s  appOs3s  appChannel10s  \\\n",
      "0        1             1            1         1        1              1   \n",
      "1        2             1            1         2        2              2   \n",
      "2        1             1            1         1        1              1   \n",
      "3        2             2            2         2        2              2   \n",
      "4        1             1            1         1        1              1   \n",
      "\n",
      "   appChannel3s  ipApp10s  ipApp3s  ipDevice10s  ipDevice3s  ipOs10s  ipOs3s  \\\n",
      "0             1         1        1            1           1        1       1   \n",
      "1             2         1        1            1           1        1       1   \n",
      "2             1         1        1            1           1        1       1   \n",
      "3             2         1        1            1           1        1       1   \n",
      "4             1         1        1            1           1        1       1   \n",
      "\n",
      "   ipChannel10s  ipChannel3s hour  hourAttrib channel  channelAttrib  \n",
      "0             1            1    1    0.002892     236       0.000287  \n",
      "1             1            1    1    0.002892     477       0.000169  \n",
      "2             1            1    1    0.002892     452       0.000291  \n",
      "3             1            1    1    0.002892     280       0.000270  \n",
      "4             1            1    1    0.002892     215       0.001064  \n"
     ]
    }
   ],
   "source": [
    "#get y\n",
    "y = df.is_attributed.values\n",
    "\n",
    "#get X and drop y \n",
    "#X = df.drop(columns=['record', 'click_time', 'is_attributed', 'ip', 'channelAttrib', 'hourAttrib','osAttrib', 'deviceAttrib', 'appAttrib', 'ipAttrib'])\n",
    "X = df.drop(columns=['record', 'click_time', 'is_attributed', 'ip'])\n",
    "X.hour = X.hour.astype('category')\n",
    "X.channel = X.channel.astype('category')\n",
    "X.os = X.os.astype('category')\n",
    "X.device = X.device.astype('category')\n",
    "X.app = X.app.astype('category')\n",
    "\n",
    "print(y[:10])\n",
    "print(X.iloc[:5,21:40])\n",
    "\n"
   ]
  },
  {
   "cell_type": "code",
   "execution_count": 3,
   "metadata": {},
   "outputs": [],
   "source": [
    "X = X.drop(columns=['hour', 'channel', 'os', 'device', 'app'])"
   ]
  },
  {
   "cell_type": "markdown",
   "metadata": {},
   "source": [
    "### Downsampling"
   ]
  },
  {
   "cell_type": "code",
   "execution_count": 10,
   "metadata": {},
   "outputs": [
    {
     "name": "stderr",
     "output_type": "stream",
     "text": [
      "/anaconda/envs/py35/lib/python3.5/site-packages/sklearn/model_selection/_split.py:2026: FutureWarning: From version 0.21, test_size will always complement train_size unless both are specified.\n",
      "  FutureWarning)\n"
     ]
    },
    {
     "name": "stdout",
     "output_type": "stream",
     "text": [
      "3386 996614 10158\n",
      "13544\n",
      "<class 'pandas.core.frame.DataFrame'>\n",
      "Int64Index: 13544 entries, 1072 to 818326\n",
      "Data columns (total 67 columns):\n",
      "channelIp10s        13544 non-null int64\n",
      "channelIp3s         13544 non-null int64\n",
      "channelApp10s       13544 non-null int64\n",
      "channelApp3s        13544 non-null int64\n",
      "channelDevice10s    13544 non-null int64\n",
      "channelDevice3s     13544 non-null int64\n",
      "channelOs10s        13544 non-null int64\n",
      "channelOs3s         13544 non-null int64\n",
      "osIp10s             13544 non-null int64\n",
      "osIp3s              13544 non-null int64\n",
      "osApp10s            13544 non-null int64\n",
      "osApp3s             13544 non-null int64\n",
      "osDevice10s         13544 non-null int64\n",
      "osDevice3s          13544 non-null int64\n",
      "osChannel10s        13544 non-null int64\n",
      "osChannel3s         13544 non-null int64\n",
      "deviceIp1s          13544 non-null int64\n",
      "deviceApp1s         13544 non-null int64\n",
      "deviceOs1s          13544 non-null int64\n",
      "deviceChannel1s     13544 non-null int64\n",
      "appIp10s            13544 non-null int64\n",
      "appIp3s             13544 non-null int64\n",
      "appDevice10s        13544 non-null int64\n",
      "appDevice3s         13544 non-null int64\n",
      "appOs10s            13544 non-null int64\n",
      "appOs3s             13544 non-null int64\n",
      "appChannel10s       13544 non-null int64\n",
      "appChannel3s        13544 non-null int64\n",
      "ipApp10s            13544 non-null int64\n",
      "ipApp3s             13544 non-null int64\n",
      "ipDevice10s         13544 non-null int64\n",
      "ipDevice3s          13544 non-null int64\n",
      "ipOs10s             13544 non-null int64\n",
      "ipOs3s              13544 non-null int64\n",
      "ipChannel10s        13544 non-null int64\n",
      "ipChannel3s         13544 non-null int64\n",
      "hourAttrib          13544 non-null float64\n",
      "channelAttrib       13544 non-null float64\n",
      "osAttrib            13544 non-null float64\n",
      "deviceAttrib        13544 non-null float64\n",
      "appAttrib           13544 non-null float64\n",
      "ipAttrib            13544 non-null float64\n",
      "ip60s               13544 non-null int64\n",
      "ip30s               13544 non-null int64\n",
      "ip10s               13544 non-null int64\n",
      "ip3s                13544 non-null int64\n",
      "ip1s                13544 non-null int64\n",
      "app60s              13544 non-null int64\n",
      "app30s              13544 non-null int64\n",
      "app10s              13544 non-null int64\n",
      "app3s               13544 non-null int64\n",
      "app1s               13544 non-null int64\n",
      "device60s           13544 non-null int64\n",
      "device30s           13544 non-null int64\n",
      "device10s           13544 non-null int64\n",
      "device3s            13544 non-null int64\n",
      "device1s            13544 non-null int64\n",
      "os60s               13544 non-null int64\n",
      "os30s               13544 non-null int64\n",
      "os10s               13544 non-null int64\n",
      "os3s                13544 non-null int64\n",
      "os1s                13544 non-null int64\n",
      "channel60s          13544 non-null int64\n",
      "channel30s          13544 non-null int64\n",
      "channel10s          13544 non-null int64\n",
      "channel3s           13544 non-null int64\n",
      "channel1s           13544 non-null int64\n",
      "dtypes: float64(6), int64(61)\n",
      "memory usage: 7.0 MB\n",
      "1834\n"
     ]
    }
   ],
   "source": [
    "import numpy as np\n",
    "from sklearn.model_selection import train_test_split\n",
    "\n",
    "X_train, X_test, y_train, y_test = train_test_split(X, y, train_size=1000000, shuffle=False)\n",
    "\n",
    "goods = (y_train==1)\n",
    "\n",
    "X_train_goods = X_train[goods]\n",
    "y_train_goods = y_train[goods]\n",
    "\n",
    "X_train_bads = X_train[~goods]\n",
    "y_train_bads = y_train[~goods]\n",
    "\n",
    "index = np.random.choice(range(len(y_train_bads)), len(y_train_goods)*3)\n",
    "\n",
    "print(len(y_train_goods), len(y_train_bads), len(index))\n",
    "\n",
    "X_train = pd.concat( [X_train_goods,X_train_bads.iloc[index,:]], axis=0)\n",
    "y_train = np.hstack([y_train_goods,y_train_bads[index]])\n",
    "\n",
    "print(len(y_train))\n",
    "X_train.info()\n",
    "\n",
    "print(sum(y_test == 1))"
   ]
  },
  {
   "cell_type": "markdown",
   "metadata": {},
   "source": [
    "## Cross Validation for Support Vector Machine(RBF)"
   ]
  },
  {
   "cell_type": "code",
   "execution_count": null,
   "metadata": {},
   "outputs": [
    {
     "name": "stdout",
     "output_type": "stream",
     "text": [
      "Fitting 5 folds for each of 49 candidates, totalling 245 fits\n",
      "[CV] svm__C=0.01, svm__gamma=1e-05 ...................................\n",
      "[CV] svm__C=0.01, svm__gamma=1e-05 ...................................\n",
      "[CV] svm__C=0.01, svm__gamma=1e-05 ...................................\n",
      "[CV] svm__C=0.01, svm__gamma=1e-05 ...................................\n",
      "[CV] svm__C=0.01, svm__gamma=1e-05 ...................................\n",
      "[CV] svm__C=0.01, svm__gamma=0.0001 ..................................\n",
      "[CV] svm__C=0.01, svm__gamma=0.0001 ..................................\n",
      "[CV] svm__C=0.01, svm__gamma=0.0001 ..................................\n",
      "[CV] svm__C=0.01, svm__gamma=0.0001 ..................................\n",
      "[CV] svm__C=0.01, svm__gamma=0.0001 ..................................\n",
      "[CV]  svm__C=0.01, svm__gamma=0.0001, score=0.9396807650705405, total= 4.6min\n",
      "[CV] svm__C=0.01, svm__gamma=0.001 ...................................\n",
      "[CV]  svm__C=0.01, svm__gamma=1e-05, score=0.9383061561544099, total= 4.7min\n",
      "[CV] svm__C=0.01, svm__gamma=0.001 ...................................\n",
      "[CV]  svm__C=0.01, svm__gamma=1e-05, score=0.9420788797264449, total= 4.7min\n",
      "[CV] svm__C=0.01, svm__gamma=0.001 ...................................\n",
      "[CV]  svm__C=0.01, svm__gamma=1e-05, score=0.9382247409251097, total= 4.7min\n",
      "[CV] svm__C=0.01, svm__gamma=0.001 ...................................\n",
      "[CV]  svm__C=0.01, svm__gamma=0.0001, score=0.9435349038718757, total= 4.7min\n",
      "[CV] svm__C=0.01, svm__gamma=0.001 ...................................\n",
      "[CV]  svm__C=0.01, svm__gamma=1e-05, score=0.941901510834041, total= 4.7min\n",
      "[CV] svm__C=0.01, svm__gamma=0.01 ....................................\n"
     ]
    },
    {
     "name": "stderr",
     "output_type": "stream",
     "text": [
      "[Parallel(n_jobs=10)]: Done   5 tasks      | elapsed:  5.1min\n"
     ]
    },
    {
     "name": "stdout",
     "output_type": "stream",
     "text": [
      "[CV]  svm__C=0.01, svm__gamma=1e-05, score=0.9283320636434479, total= 4.7min\n",
      "[CV] svm__C=0.01, svm__gamma=0.01 ....................................\n",
      "[CV]  svm__C=0.01, svm__gamma=0.0001, score=0.9397759918119541, total= 4.8min\n",
      "[CV] svm__C=0.01, svm__gamma=0.01 ....................................\n",
      "[CV]  svm__C=0.01, svm__gamma=0.0001, score=0.9432790274369323, total= 4.7min\n",
      "[CV] svm__C=0.01, svm__gamma=0.01 ....................................\n",
      "[CV]  svm__C=0.01, svm__gamma=0.0001, score=0.929596180462671, total= 4.8min\n",
      "[CV] svm__C=0.01, svm__gamma=0.01 ....................................\n",
      "[CV]  svm__C=0.01, svm__gamma=0.01, score=0.920121483152863, total= 2.5min\n",
      "[CV] svm__C=0.01, svm__gamma=0.1 .....................................\n",
      "[CV]  svm__C=0.01, svm__gamma=0.01, score=0.9404636597308647, total= 2.5min\n",
      "[CV] svm__C=0.01, svm__gamma=0.1 .....................................\n"
     ]
    },
    {
     "name": "stderr",
     "output_type": "stream",
     "text": [
      "[Parallel(n_jobs=10)]: Done  12 tasks      | elapsed:  7.9min\n"
     ]
    },
    {
     "name": "stdout",
     "output_type": "stream",
     "text": [
      "[CV]  svm__C=0.01, svm__gamma=0.01, score=0.938803370590493, total= 2.5min\n",
      "[CV] svm__C=0.01, svm__gamma=0.1 .....................................\n",
      "[CV]  svm__C=0.01, svm__gamma=0.01, score=0.9415991114109259, total= 2.5min\n",
      "[CV] svm__C=0.01, svm__gamma=0.1 .....................................\n",
      "[CV]  svm__C=0.01, svm__gamma=0.01, score=0.9428835820374742, total= 2.5min\n",
      "[CV] svm__C=0.01, svm__gamma=0.1 .....................................\n",
      "[CV]  svm__C=0.01, svm__gamma=0.001, score=0.92963179962549, total= 3.4min\n",
      "[CV] svm__C=0.01, svm__gamma=1.0 .....................................\n",
      "[CV]  svm__C=0.01, svm__gamma=0.001, score=0.9402426755370499, total= 3.4min\n",
      "[CV] svm__C=0.01, svm__gamma=1.0 .....................................\n",
      "[CV]  svm__C=0.01, svm__gamma=0.001, score=0.94419785645332, total= 3.4min\n",
      "[CV] svm__C=0.01, svm__gamma=1.0 .....................................\n",
      "[CV]  svm__C=0.01, svm__gamma=0.001, score=0.944951674246037, total= 3.4min\n",
      "[CV] svm__C=0.01, svm__gamma=1.0 .....................................\n",
      "[CV]  svm__C=0.01, svm__gamma=0.001, score=0.9421959141185638, total= 3.4min\n",
      "[CV] svm__C=0.01, svm__gamma=1.0 .....................................\n",
      "[CV]  svm__C=0.01, svm__gamma=0.1, score=0.915315803859082, total= 3.4min\n",
      "[CV] svm__C=0.01, svm__gamma=10.0 ....................................\n"
     ]
    },
    {
     "name": "stderr",
     "output_type": "stream",
     "text": [
      "[Parallel(n_jobs=10)]: Done  21 tasks      | elapsed: 11.7min\n"
     ]
    },
    {
     "name": "stdout",
     "output_type": "stream",
     "text": [
      "[CV]  svm__C=0.01, svm__gamma=0.1, score=0.9373306272461881, total= 3.4min\n",
      "[CV] svm__C=0.01, svm__gamma=10.0 ....................................\n",
      "[CV]  svm__C=0.01, svm__gamma=0.1, score=0.9321694832459089, total= 3.5min\n",
      "[CV] svm__C=0.01, svm__gamma=10.0 ....................................\n",
      "[CV]  svm__C=0.01, svm__gamma=0.1, score=0.9251554158573605, total= 3.5min\n",
      "[CV] svm__C=0.01, svm__gamma=10.0 ....................................\n",
      "[CV]  svm__C=0.01, svm__gamma=0.1, score=0.9298426069156421, total= 3.5min\n",
      "[CV] svm__C=0.01, svm__gamma=10.0 ....................................\n",
      "[CV]  svm__C=0.01, svm__gamma=1.0, score=0.8992864536689191, total= 7.3min\n",
      "[CV] svm__C=0.1, svm__gamma=1e-05 ....................................\n",
      "[CV]  svm__C=0.01, svm__gamma=1.0, score=0.9169288430895918, total= 7.3min\n",
      "[CV] svm__C=0.1, svm__gamma=1e-05 ....................................\n",
      "[CV]  svm__C=0.01, svm__gamma=1.0, score=0.9238680375440516, total= 7.3min\n",
      "[CV] svm__C=0.1, svm__gamma=1e-05 ....................................\n",
      "[CV]  svm__C=0.01, svm__gamma=1.0, score=0.9252746310145501, total= 7.3min\n",
      "[CV] svm__C=0.1, svm__gamma=1e-05 ....................................\n",
      "[CV]  svm__C=0.01, svm__gamma=1.0, score=0.9223571308110121, total= 7.4min\n",
      "[CV] svm__C=0.1, svm__gamma=1e-05 ....................................\n"
     ]
    },
    {
     "name": "stderr",
     "output_type": "stream",
     "text": [
      "[Parallel(n_jobs=10)]: Done  30 tasks      | elapsed: 17.0min\n"
     ]
    },
    {
     "name": "stdout",
     "output_type": "stream",
     "text": [
      "[CV]  svm__C=0.1, svm__gamma=1e-05, score=0.9392896812012236, total= 3.4min\n",
      "[CV] svm__C=0.1, svm__gamma=0.0001 ...................................\n",
      "[CV]  svm__C=0.1, svm__gamma=1e-05, score=0.9295118575466101, total= 3.5min\n",
      "[CV] svm__C=0.1, svm__gamma=0.0001 ...................................\n",
      "[CV]  svm__C=0.1, svm__gamma=1e-05, score=0.939610253666593, total= 3.4min\n",
      "[CV] svm__C=0.1, svm__gamma=0.0001 ...................................\n",
      "[CV]  svm__C=0.1, svm__gamma=1e-05, score=0.9430355086707218, total= 3.5min\n",
      "[CV]  svm__C=0.1, svm__gamma=1e-05, score=0.9435029193175078, total= 3.5min\n",
      "[CV] svm__C=0.1, svm__gamma=0.0001 ...................................\n",
      "[CV] svm__C=0.1, svm__gamma=0.0001 ...................................\n",
      "[CV]  svm__C=0.01, svm__gamma=10.0, score=0.8198288244803964, total= 8.8min\n",
      "[CV] svm__C=0.1, svm__gamma=0.001 ....................................\n",
      "[CV]  svm__C=0.01, svm__gamma=10.0, score=0.8460906878423801, total= 8.9min\n",
      "[CV] svm__C=0.1, svm__gamma=0.001 ....................................\n",
      "[CV]  svm__C=0.01, svm__gamma=10.0, score=0.8365091330441154, total= 8.8min\n",
      "[CV] svm__C=0.1, svm__gamma=0.001 ....................................\n",
      "[CV]  svm__C=0.01, svm__gamma=10.0, score=0.8408172344409681, total= 8.9min\n",
      "[CV] svm__C=0.1, svm__gamma=0.001 ....................................\n",
      "[CV]  svm__C=0.01, svm__gamma=10.0, score=0.8326902499447539, total= 9.0min\n",
      "[CV] svm__C=0.1, svm__gamma=0.001 ....................................\n",
      "[CV]  svm__C=0.1, svm__gamma=0.001, score=0.9265932669605368, total= 1.9min\n",
      "[CV] svm__C=0.1, svm__gamma=0.01 .....................................\n"
     ]
    },
    {
     "name": "stderr",
     "output_type": "stream",
     "text": [
      "[Parallel(n_jobs=10)]: Done  41 tasks      | elapsed: 23.4min\n"
     ]
    },
    {
     "name": "stdout",
     "output_type": "stream",
     "text": [
      "[CV]  svm__C=0.1, svm__gamma=0.001, score=0.940433129019877, total= 1.9min\n",
      "[CV] svm__C=0.1, svm__gamma=0.01 .....................................\n",
      "[CV]  svm__C=0.1, svm__gamma=0.001, score=0.9419109608160132, total= 1.9min\n",
      "[CV] svm__C=0.1, svm__gamma=0.01 .....................................\n",
      "[CV]  svm__C=0.1, svm__gamma=0.001, score=0.9463233754754068, total= 1.9min\n",
      "[CV] svm__C=0.1, svm__gamma=0.01 .....................................\n",
      "[CV]  svm__C=0.1, svm__gamma=0.001, score=0.9445227904488305, total= 1.9min\n",
      "[CV] svm__C=0.1, svm__gamma=0.01 .....................................\n",
      "[CV]  svm__C=0.1, svm__gamma=0.0001, score=0.9296514265111248, total= 3.4min\n",
      "[CV] svm__C=0.1, svm__gamma=0.1 ......................................\n",
      "[CV]  svm__C=0.1, svm__gamma=0.0001, score=0.9397309226671628, total= 3.4min\n",
      "[CV] svm__C=0.1, svm__gamma=0.1 ......................................\n",
      "[CV]  svm__C=0.1, svm__gamma=0.0001, score=0.9399002954209748, total= 3.5min\n",
      "[CV] svm__C=0.1, svm__gamma=0.1 ......................................\n",
      "[CV]  svm__C=0.1, svm__gamma=0.0001, score=0.9434716616848301, total= 3.4min\n",
      "[CV] svm__C=0.1, svm__gamma=0.1 ......................................\n",
      "[CV]  svm__C=0.1, svm__gamma=0.0001, score=0.943637399830191, total= 3.4min\n",
      "[CV] svm__C=0.1, svm__gamma=0.1 ......................................\n",
      "[CV]  svm__C=0.1, svm__gamma=0.01, score=0.9182736482164249, total= 1.4min\n",
      "[CV] svm__C=0.1, svm__gamma=1.0 ......................................\n",
      "[CV]  svm__C=0.1, svm__gamma=0.01, score=0.9362998522895126, total= 1.5min\n",
      "[CV] svm__C=0.1, svm__gamma=1.0 ......................................\n"
     ]
    },
    {
     "name": "stderr",
     "output_type": "stream",
     "text": [
      "[Parallel(n_jobs=10)]: Done  52 tasks      | elapsed: 25.2min\n"
     ]
    },
    {
     "name": "stdout",
     "output_type": "stream",
     "text": [
      "[CV]  svm__C=0.1, svm__gamma=0.01, score=0.9367171053396759, total= 1.5min\n",
      "[CV] svm__C=0.1, svm__gamma=1.0 ......................................\n",
      "[CV]  svm__C=0.1, svm__gamma=0.01, score=0.943302288931018, total= 1.5min\n",
      "[CV] svm__C=0.1, svm__gamma=1.0 ......................................\n",
      "[CV]  svm__C=0.1, svm__gamma=0.01, score=0.9420127298526384, total= 1.5min\n",
      "[CV] svm__C=0.1, svm__gamma=1.0 ......................................\n",
      "[CV]  svm__C=0.1, svm__gamma=0.1, score=0.919024558322381, total= 2.8min\n",
      "[CV] svm__C=0.1, svm__gamma=10.0 .....................................\n",
      "[CV]  svm__C=0.1, svm__gamma=0.1, score=0.9379572337431233, total= 2.8min\n",
      "[CV] svm__C=0.1, svm__gamma=10.0 .....................................\n",
      "[CV]  svm__C=0.1, svm__gamma=0.1, score=0.9327415706160807, total= 2.8min\n",
      "[CV] svm__C=0.1, svm__gamma=10.0 .....................................\n",
      "[CV]  svm__C=0.1, svm__gamma=0.1, score=0.9316519150025007, total= 2.8min\n",
      "[CV] svm__C=0.1, svm__gamma=10.0 .....................................\n",
      "[CV]  svm__C=0.1, svm__gamma=0.1, score=0.9428719512904313, total= 2.8min\n",
      "[CV] svm__C=0.1, svm__gamma=10.0 .....................................\n",
      "[CV]  svm__C=0.1, svm__gamma=1.0, score=0.8993387920306121, total= 8.2min\n",
      "[CV] svm__C=1.0, svm__gamma=1e-05 ....................................\n",
      "[CV]  svm__C=0.1, svm__gamma=1.0, score=0.9218628240616896, total= 8.2min\n",
      "[CV] svm__C=1.0, svm__gamma=1e-05 ....................................\n",
      "[CV]  svm__C=0.1, svm__gamma=1.0, score=0.9171345619279127, total= 8.3min\n",
      "[CV] svm__C=1.0, svm__gamma=1e-05 ....................................\n",
      "[CV]  svm__C=0.1, svm__gamma=1.0, score=0.9252157503576455, total= 8.3min\n",
      "[CV] svm__C=1.0, svm__gamma=1e-05 ....................................\n",
      "[CV]  svm__C=0.1, svm__gamma=1.0, score=0.9238109741913724, total= 8.3min\n",
      "[CV] svm__C=1.0, svm__gamma=1e-05 ....................................\n"
     ]
    },
    {
     "name": "stderr",
     "output_type": "stream",
     "text": [
      "[Parallel(n_jobs=10)]: Done  65 tasks      | elapsed: 34.4min\n"
     ]
    },
    {
     "name": "stdout",
     "output_type": "stream",
     "text": [
      "[CV]  svm__C=1.0, svm__gamma=1e-05, score=0.9296259842519685, total= 3.4min\n",
      "[CV] svm__C=1.0, svm__gamma=0.0001 ...................................\n",
      "[CV]  svm__C=1.0, svm__gamma=1e-05, score=0.9394474232079927, total= 3.4min\n",
      "[CV] svm__C=1.0, svm__gamma=0.0001 ...................................\n",
      "[CV]  svm__C=1.0, svm__gamma=1e-05, score=0.9396335151606787, total= 3.4min\n",
      "[CV] svm__C=1.0, svm__gamma=0.0001 ...................................\n",
      "[CV]  svm__C=1.0, svm__gamma=1e-05, score=0.9432310506053804, total= 3.4min\n",
      "[CV] svm__C=1.0, svm__gamma=0.0001 ...................................\n",
      "[CV]  svm__C=1.0, svm__gamma=1e-05, score=0.9436199537096268, total= 3.5min\n",
      "[CV] svm__C=1.0, svm__gamma=0.0001 ...................................\n",
      "[CV]  svm__C=0.1, svm__gamma=10.0, score=0.8263456774328615, total=11.1min\n",
      "[CV] svm__C=1.0, svm__gamma=0.001 ....................................\n",
      "[CV]  svm__C=0.1, svm__gamma=10.0, score=0.8411621587829585, total=11.0min\n",
      "[CV] svm__C=1.0, svm__gamma=0.001 ....................................\n",
      "[CV]  svm__C=0.1, svm__gamma=10.0, score=0.856157099407995, total=11.1min\n",
      "[CV] svm__C=1.0, svm__gamma=0.001 ....................................\n",
      "[CV]  svm__C=0.1, svm__gamma=10.0, score=0.850193797322602, total=11.1min\n",
      "[CV] svm__C=1.0, svm__gamma=0.001 ....................................\n",
      "[CV]  svm__C=0.1, svm__gamma=10.0, score=0.8449890380209121, total=11.1min\n",
      "[CV] svm__C=1.0, svm__gamma=0.001 ....................................\n",
      "[CV]  svm__C=1.0, svm__gamma=0.0001, score=0.9269923469684458, total= 1.9min\n",
      "[CV] svm__C=1.0, svm__gamma=0.01 .....................................\n",
      "[CV]  svm__C=1.0, svm__gamma=0.0001, score=0.9395651845218018, total= 1.9min\n",
      "[CV] svm__C=1.0, svm__gamma=0.01 .....................................\n",
      "[CV]  svm__C=1.0, svm__gamma=0.0001, score=0.9453173158561975, total= 1.7min\n",
      "[CV] svm__C=1.0, svm__gamma=0.01 .....................................\n"
     ]
    },
    {
     "name": "stderr",
     "output_type": "stream",
     "text": [
      "[Parallel(n_jobs=10)]: Done  78 tasks      | elapsed: 40.2min\n"
     ]
    },
    {
     "name": "stdout",
     "output_type": "stream",
     "text": [
      "[CV]  svm__C=1.0, svm__gamma=0.0001, score=0.9420512567022181, total= 1.9min\n",
      "[CV] svm__C=1.0, svm__gamma=0.01 .....................................\n",
      "[CV]  svm__C=1.0, svm__gamma=0.0001, score=0.9458428802381977, total= 1.9min\n",
      "[CV] svm__C=1.0, svm__gamma=0.01 .....................................\n",
      "[CV]  svm__C=1.0, svm__gamma=0.001, score=0.9248515625908653, total= 1.2min\n",
      "[CV] svm__C=1.0, svm__gamma=0.1 ......................................\n",
      "[CV]  svm__C=1.0, svm__gamma=0.001, score=0.9429213819653636, total= 1.2min\n",
      "[CV] svm__C=1.0, svm__gamma=0.1 ......................................\n",
      "[CV]  svm__C=1.0, svm__gamma=0.001, score=0.9422606101489899, total= 1.3min\n",
      "[CV] svm__C=1.0, svm__gamma=0.1 ......................................\n",
      "[CV]  svm__C=1.0, svm__gamma=0.001, score=0.9454401656218379, total= 1.3min\n",
      "[CV] svm__C=1.0, svm__gamma=0.1 ......................................\n",
      "[CV]  svm__C=1.0, svm__gamma=0.001, score=0.9453972772421173, total= 1.3min\n",
      "[CV] svm__C=1.0, svm__gamma=0.1 ......................................\n",
      "[CV]  svm__C=1.0, svm__gamma=0.01, score=0.9271660812523989, total= 1.2min\n",
      "[CV] svm__C=1.0, svm__gamma=1.0 ......................................\n",
      "[CV]  svm__C=1.0, svm__gamma=0.01, score=0.9361668256202096, total= 1.1min\n",
      "[CV] svm__C=1.0, svm__gamma=1.0 ......................................\n",
      "[CV]  svm__C=1.0, svm__gamma=0.01, score=0.9487214901313112, total= 1.2min\n",
      "[CV] svm__C=1.0, svm__gamma=1.0 ......................................\n",
      "[CV]  svm__C=1.0, svm__gamma=0.01, score=0.9479676723385944, total= 1.3min\n",
      "[CV] svm__C=1.0, svm__gamma=1.0 ......................................\n",
      "[CV]  svm__C=1.0, svm__gamma=0.01, score=0.9492884890496516, total= 1.3min\n",
      "[CV] svm__C=1.0, svm__gamma=1.0 ......................................\n",
      "[CV]  svm__C=1.0, svm__gamma=0.1, score=0.9241275485874458, total= 2.7min\n",
      "[CV] svm__C=1.0, svm__gamma=10.0 .....................................\n",
      "[CV]  svm__C=1.0, svm__gamma=0.1, score=0.9395157538468696, total= 2.7min\n",
      "[CV] svm__C=1.0, svm__gamma=10.0 .....................................\n",
      "[CV]  svm__C=1.0, svm__gamma=0.1, score=0.9394728654671489, total= 2.8min\n",
      "[CV]  svm__C=1.0, svm__gamma=0.1, score=0.9391355738029055, total= 2.8min\n",
      "[CV] svm__C=1.0, svm__gamma=10.0 .....................................\n",
      "[CV] svm__C=1.0, svm__gamma=10.0 .....................................\n"
     ]
    },
    {
     "name": "stderr",
     "output_type": "stream",
     "text": [
      "[Parallel(n_jobs=10)]: Done  93 tasks      | elapsed: 44.1min\n"
     ]
    },
    {
     "name": "stdout",
     "output_type": "stream",
     "text": [
      "[CV]  svm__C=1.0, svm__gamma=0.1, score=0.9452853313018296, total= 2.8min\n",
      "[CV] svm__C=1.0, svm__gamma=10.0 .....................................\n",
      "[CV]  svm__C=1.0, svm__gamma=1.0, score=0.9209185527861454, total= 9.9min\n",
      "[CV] svm__C=10.0, svm__gamma=1e-05 ...................................\n",
      "[CV]  svm__C=1.0, svm__gamma=1.0, score=0.9150432082252644, total=10.7min\n",
      "[CV] svm__C=10.0, svm__gamma=1e-05 ...................................\n",
      "[CV]  svm__C=1.0, svm__gamma=1.0, score=0.8991926807708859, total=11.1min\n",
      "[CV] svm__C=10.0, svm__gamma=1e-05 ...................................\n",
      "[CV]  svm__C=1.0, svm__gamma=1.0, score=0.9225999226555321, total=10.7min\n",
      "[CV] svm__C=10.0, svm__gamma=1e-05 ...................................\n",
      "[CV]  svm__C=1.0, svm__gamma=1.0, score=0.9217068993591458, total=10.9min\n",
      "[CV] svm__C=10.0, svm__gamma=1e-05 ...................................\n",
      "[CV]  svm__C=10.0, svm__gamma=1e-05, score=0.9270795775712674, total= 1.7min\n",
      "[CV] svm__C=10.0, svm__gamma=0.0001 ..................................\n",
      "[CV]  svm__C=10.0, svm__gamma=1e-05, score=0.9391304853510741, total= 1.9min\n",
      "[CV] svm__C=10.0, svm__gamma=0.0001 ..................................\n",
      "[CV]  svm__C=10.0, svm__gamma=1e-05, score=0.9420040067923563, total= 1.9min\n",
      "[CV] svm__C=10.0, svm__gamma=0.0001 ..................................\n",
      "[CV]  svm__C=10.0, svm__gamma=0.0001, score=0.9254461845334325, total= 1.2min\n",
      "[CV] svm__C=10.0, svm__gamma=0.0001 ..................................\n",
      "[CV]  svm__C=10.0, svm__gamma=1e-05, score=0.945642249851708, total= 1.9min\n",
      "[CV] svm__C=10.0, svm__gamma=0.0001 ..................................\n",
      "[CV]  svm__C=10.0, svm__gamma=1e-05, score=0.9455194000860675, total= 2.0min\n",
      "[CV] svm__C=10.0, svm__gamma=0.001 ...................................\n",
      "[CV]  svm__C=10.0, svm__gamma=0.0001, score=0.9466265018202118, total= 1.2min\n",
      "[CV] svm__C=10.0, svm__gamma=0.001 ...................................\n",
      "[CV]  svm__C=10.0, svm__gamma=0.0001, score=0.943681015131602, total= 1.3min\n",
      "[CV] svm__C=10.0, svm__gamma=0.001 ...................................\n",
      "[CV]  svm__C=10.0, svm__gamma=0.0001, score=0.9432027006594632, total= 1.4min\n"
     ]
    },
    {
     "name": "stderr",
     "output_type": "stream",
     "text": [
      "[Parallel(n_jobs=10)]: Done 108 tasks      | elapsed: 56.6min\n"
     ]
    },
    {
     "name": "stdout",
     "output_type": "stream",
     "text": [
      "[CV] svm__C=10.0, svm__gamma=0.001 ...................................\n",
      "[CV]  svm__C=1.0, svm__gamma=10.0, score=0.8477211731934542, total=11.9min\n",
      "[CV] svm__C=10.0, svm__gamma=0.001 ...................................\n",
      "[CV]  svm__C=10.0, svm__gamma=0.001, score=0.9346206631851963, total= 1.2min\n",
      "[CV] svm__C=10.0, svm__gamma=0.01 ....................................\n",
      "[CV]  svm__C=10.0, svm__gamma=0.0001, score=0.9451355854336523, total= 1.4min\n",
      "[CV] svm__C=10.0, svm__gamma=0.01 ....................................\n",
      "[CV]  svm__C=1.0, svm__gamma=10.0, score=0.8337501017690367, total=12.3min\n",
      "[CV] svm__C=10.0, svm__gamma=0.01 ....................................\n",
      "[CV]  svm__C=1.0, svm__gamma=10.0, score=0.8658927616045778, total=12.2min\n",
      "[CV] svm__C=10.0, svm__gamma=0.01 ....................................\n",
      "[CV]  svm__C=1.0, svm__gamma=10.0, score=0.8573797816908779, total=12.4min\n",
      "[CV] svm__C=10.0, svm__gamma=0.01 ....................................\n",
      "[CV]  svm__C=1.0, svm__gamma=10.0, score=0.8523385797694787, total=12.3min\n",
      "[CV] svm__C=10.0, svm__gamma=0.1 .....................................\n",
      "[CV]  svm__C=10.0, svm__gamma=0.001, score=0.9511101548052431, total= 1.0min\n",
      "[CV] svm__C=10.0, svm__gamma=0.1 .....................................\n",
      "[CV]  svm__C=10.0, svm__gamma=0.001, score=0.9543929331580967, total= 1.2min\n",
      "[CV] svm__C=10.0, svm__gamma=0.1 .....................................\n",
      "[CV]  svm__C=10.0, svm__gamma=0.001, score=0.9446565440398237, total= 1.2min\n",
      "[CV] svm__C=10.0, svm__gamma=0.1 .....................................\n",
      "[CV]  svm__C=10.0, svm__gamma=0.001, score=0.9544285523209155, total= 1.2min\n",
      "[CV] svm__C=10.0, svm__gamma=0.1 .....................................\n",
      "[CV]  svm__C=10.0, svm__gamma=0.01, score=0.9387866513916189, total= 1.4min\n",
      "[CV] svm__C=10.0, svm__gamma=1.0 .....................................\n",
      "[CV]  svm__C=10.0, svm__gamma=0.01, score=0.9527922515963201, total= 1.5min\n",
      "[CV] svm__C=10.0, svm__gamma=1.0 .....................................\n",
      "[CV]  svm__C=10.0, svm__gamma=0.01, score=0.9482969678642459, total= 1.5min\n",
      "[CV] svm__C=10.0, svm__gamma=1.0 .....................................\n",
      "[CV]  svm__C=10.0, svm__gamma=0.01, score=0.9507234324660672, total= 1.5min\n",
      "[CV] svm__C=10.0, svm__gamma=1.0 .....................................\n",
      "[CV]  svm__C=10.0, svm__gamma=0.01, score=0.9565947789576525, total= 1.5min\n",
      "[CV] svm__C=10.0, svm__gamma=1.0 .....................................\n"
     ]
    },
    {
     "name": "stderr",
     "output_type": "stream",
     "text": [
      "[Parallel(n_jobs=10)]: Done 125 tasks      | elapsed: 59.0min\n"
     ]
    },
    {
     "name": "stdout",
     "output_type": "stream",
     "text": [
      "[CV]  svm__C=10.0, svm__gamma=0.1, score=0.9243797904139383, total= 2.7min\n",
      "[CV] svm__C=10.0, svm__gamma=10.0 ....................................\n",
      "[CV]  svm__C=10.0, svm__gamma=0.1, score=0.9400325951685877, total= 2.4min\n",
      "[CV] svm__C=10.0, svm__gamma=10.0 ....................................\n",
      "[CV]  svm__C=10.0, svm__gamma=0.1, score=0.9390061817420533, total= 2.8min\n",
      "[CV] svm__C=10.0, svm__gamma=10.0 ....................................\n",
      "[CV]  svm__C=10.0, svm__gamma=0.1, score=0.9397490957094173, total= 2.8min\n",
      "[CV] svm__C=10.0, svm__gamma=10.0 ....................................\n",
      "[CV]  svm__C=10.0, svm__gamma=0.1, score=0.9458712301841147, total= 2.8min\n",
      "[CV] svm__C=10.0, svm__gamma=10.0 ....................................\n",
      "[CV]  svm__C=10.0, svm__gamma=10.0, score=0.8661980687144535, total=11.2min\n",
      "[CV] svm__C=100.0, svm__gamma=1e-05 ..................................\n",
      "[CV]  svm__C=100.0, svm__gamma=1e-05, score=0.9252491887553939, total= 1.3min\n",
      "[CV] svm__C=100.0, svm__gamma=1e-05 ..................................\n",
      "[CV]  svm__C=10.0, svm__gamma=10.0, score=0.8343625332930134, total=12.9min\n",
      "[CV] svm__C=100.0, svm__gamma=1e-05 ..................................\n",
      "[CV]  svm__C=100.0, svm__gamma=1e-05, score=0.942922835808744, total= 1.2min\n",
      "[CV] svm__C=100.0, svm__gamma=1e-05 ..................................\n",
      "[CV]  svm__C=10.0, svm__gamma=10.0, score=0.8543532432338128, total=13.4min\n",
      "[CV] svm__C=100.0, svm__gamma=1e-05 ..................................\n",
      "[CV]  svm__C=100.0, svm__gamma=1e-05, score=0.9432484967259447, total= 1.4min\n",
      "[CV] svm__C=100.0, svm__gamma=0.0001 .................................\n",
      "[CV]  svm__C=10.0, svm__gamma=1.0, score=0.9130136428662813, total=16.4min\n",
      "[CV] svm__C=100.0, svm__gamma=0.0001 .................................\n",
      "[CV]  svm__C=10.0, svm__gamma=1.0, score=0.8968556275369567, total=16.7min\n",
      "[CV] svm__C=100.0, svm__gamma=0.0001 .................................\n",
      "[CV]  svm__C=10.0, svm__gamma=1.0, score=0.9197438473348144, total=16.7min\n",
      "[CV] svm__C=100.0, svm__gamma=0.0001 .................................\n",
      "[CV]  svm__C=10.0, svm__gamma=1.0, score=0.9182362117493807, total=16.6min\n",
      "[CV] svm__C=100.0, svm__gamma=0.0001 .................................\n",
      "[CV]  svm__C=10.0, svm__gamma=1.0, score=0.9198652432570745, total=16.7min\n",
      "[CV] svm__C=100.0, svm__gamma=0.001 ..................................\n",
      "[CV]  svm__C=100.0, svm__gamma=1e-05, score=0.9467151862664138, total= 1.2min\n",
      "[CV] svm__C=100.0, svm__gamma=0.001 ..................................\n"
     ]
    },
    {
     "name": "stderr",
     "output_type": "stream",
     "text": [
      "[Parallel(n_jobs=10)]: Done 142 tasks      | elapsed: 76.5min\n"
     ]
    },
    {
     "name": "stdout",
     "output_type": "stream",
     "text": [
      "[CV]  svm__C=100.0, svm__gamma=1e-05, score=0.9448193744984239, total= 1.2min\n",
      "[CV] svm__C=100.0, svm__gamma=0.001 ..................................\n",
      "[CV]  svm__C=100.0, svm__gamma=0.0001, score=0.9378074878749463, total= 1.2min\n",
      "[CV] svm__C=100.0, svm__gamma=0.001 ..................................\n",
      "[CV]  svm__C=100.0, svm__gamma=0.0001, score=0.9526679479872993, total= 1.2min\n",
      "[CV] svm__C=100.0, svm__gamma=0.001 ..................................\n",
      "[CV]  svm__C=10.0, svm__gamma=10.0, score=0.8508269461147488, total=15.2min\n",
      "[CV] svm__C=100.0, svm__gamma=0.01 ...................................\n",
      "[CV]  svm__C=100.0, svm__gamma=0.0001, score=0.9507190709359261, total= 1.2min\n",
      "[CV] svm__C=100.0, svm__gamma=0.01 ...................................\n",
      "[CV]  svm__C=100.0, svm__gamma=0.0001, score=0.9536623768594658, total= 1.2min\n",
      "[CV] svm__C=100.0, svm__gamma=0.01 ...................................\n",
      "[CV]  svm__C=100.0, svm__gamma=0.0001, score=0.955676676862955, total= 1.3min\n",
      "[CV] svm__C=100.0, svm__gamma=0.01 ...................................\n",
      "[CV]  svm__C=10.0, svm__gamma=10.0, score=0.8584556257923447, total=15.7min\n",
      "[CV] svm__C=100.0, svm__gamma=0.01 ...................................\n",
      "[CV]  svm__C=100.0, svm__gamma=0.001, score=0.9526694018306796, total= 1.4min\n",
      "[CV] svm__C=100.0, svm__gamma=0.1 ....................................\n",
      "[CV]  svm__C=100.0, svm__gamma=0.001, score=0.9391857313995279, total= 1.5min\n",
      "[CV] svm__C=100.0, svm__gamma=0.1 ....................................\n",
      "[CV]  svm__C=100.0, svm__gamma=0.001, score=0.9507365170564903, total= 1.4min\n",
      "[CV] svm__C=100.0, svm__gamma=0.1 ....................................\n",
      "[CV]  svm__C=100.0, svm__gamma=0.001, score=0.9509284243826981, total= 1.6min\n",
      "[CV] svm__C=100.0, svm__gamma=0.1 ....................................\n",
      "[CV]  svm__C=100.0, svm__gamma=0.001, score=0.9594748426941462, total= 1.6min\n",
      "[CV] svm__C=100.0, svm__gamma=0.1 ....................................\n",
      "[CV]  svm__C=100.0, svm__gamma=0.01, score=0.9440292106211983, total= 2.0min\n",
      "[CV] svm__C=100.0, svm__gamma=1.0 ....................................\n",
      "[CV]  svm__C=100.0, svm__gamma=0.01, score=0.9549475744077041, total= 2.1min\n",
      "[CV] svm__C=100.0, svm__gamma=1.0 ....................................\n",
      "[CV]  svm__C=100.0, svm__gamma=0.01, score=0.9563643447818654, total= 2.1min\n",
      "[CV] svm__C=100.0, svm__gamma=1.0 ....................................\n",
      "[CV]  svm__C=100.0, svm__gamma=0.01, score=0.9551801893485619, total= 2.1min\n",
      "[CV] svm__C=100.0, svm__gamma=1.0 ....................................\n",
      "[CV]  svm__C=100.0, svm__gamma=0.01, score=0.9597001884181021, total= 2.1min\n",
      "[CV] svm__C=100.0, svm__gamma=1.0 ....................................\n",
      "[CV]  svm__C=100.0, svm__gamma=0.1, score=0.9157977529396713, total= 2.3min\n",
      "[CV] svm__C=100.0, svm__gamma=10.0 ...................................\n"
     ]
    },
    {
     "name": "stderr",
     "output_type": "stream",
     "text": [
      "[Parallel(n_jobs=10)]: Done 161 tasks      | elapsed: 80.7min\n"
     ]
    },
    {
     "name": "stdout",
     "output_type": "stream",
     "text": [
      "[CV]  svm__C=100.0, svm__gamma=0.1, score=0.9347544167761894, total= 2.3min\n",
      "[CV] svm__C=100.0, svm__gamma=10.0 ...................................\n",
      "[CV]  svm__C=100.0, svm__gamma=0.1, score=0.9359814605892137, total= 2.6min\n",
      "[CV] svm__C=100.0, svm__gamma=10.0 ...................................\n",
      "[CV]  svm__C=100.0, svm__gamma=0.1, score=0.9346679130950583, total= 2.6min\n",
      "[CV] svm__C=100.0, svm__gamma=10.0 ...................................\n",
      "[CV]  svm__C=100.0, svm__gamma=0.1, score=0.9402891985252213, total= 2.7min\n",
      "[CV] svm__C=100.0, svm__gamma=10.0 ...................................\n",
      "[CV]  svm__C=100.0, svm__gamma=10.0, score=0.8343625332930134, total=10.9min\n",
      "[CV] svm__C=1000.0, svm__gamma=1e-05 .................................\n",
      "[CV]  svm__C=100.0, svm__gamma=10.0, score=0.8661980687144535, total=11.1min\n",
      "[CV] svm__C=1000.0, svm__gamma=1e-05 .................................\n",
      "[CV]  svm__C=1000.0, svm__gamma=1e-05, score=0.9340129566522059, total= 1.1min\n",
      "[CV] svm__C=1000.0, svm__gamma=1e-05 .................................\n",
      "[CV]  svm__C=1000.0, svm__gamma=1e-05, score=0.9522143488526268, total= 1.2min\n",
      "[CV] svm__C=1000.0, svm__gamma=1e-05 .................................\n",
      "[CV]  svm__C=100.0, svm__gamma=10.0, score=0.8508269461147488, total=12.6min\n",
      "[CV] svm__C=1000.0, svm__gamma=1e-05 .................................\n",
      "[CV]  svm__C=1000.0, svm__gamma=1e-05, score=0.9507532362553648, total= 1.1min\n",
      "[CV] svm__C=1000.0, svm__gamma=0.0001 ................................\n",
      "[CV]  svm__C=100.0, svm__gamma=10.0, score=0.8584556257923447, total=12.5min\n",
      "[CV] svm__C=1000.0, svm__gamma=0.0001 ................................\n",
      "[CV]  svm__C=1000.0, svm__gamma=1e-05, score=0.9550638818781331, total= 1.1min\n",
      "[CV] svm__C=1000.0, svm__gamma=0.0001 ................................\n",
      "[CV]  svm__C=1000.0, svm__gamma=1e-05, score=0.9542344642296374, total= 1.3min\n",
      "[CV] svm__C=1000.0, svm__gamma=0.0001 ................................\n",
      "[CV]  svm__C=100.0, svm__gamma=1.0, score=0.8968556275369567, total=16.5min\n",
      "[CV] svm__C=1000.0, svm__gamma=0.0001 ................................\n",
      "[CV]  svm__C=1000.0, svm__gamma=0.0001, score=0.9433989695158119, total= 1.6min\n",
      "[CV] svm__C=1000.0, svm__gamma=0.001 .................................\n",
      "[CV]  svm__C=1000.0, svm__gamma=0.0001, score=0.9582521604112632, total= 1.9min\n",
      "[CV] svm__C=1000.0, svm__gamma=0.001 .................................\n",
      "[CV]  svm__C=100.0, svm__gamma=1.0, score=0.9197438473348144, total=16.6min\n",
      "[CV] svm__C=1000.0, svm__gamma=0.001 .................................\n",
      "[CV]  svm__C=100.0, svm__gamma=1.0, score=0.9130078274927598, total=16.6min\n",
      "[CV] svm__C=1000.0, svm__gamma=0.001 .................................\n",
      "[CV]  svm__C=1000.0, svm__gamma=0.0001, score=0.9508957129066399, total= 1.7min\n",
      "[CV] svm__C=1000.0, svm__gamma=0.001 .................................\n"
     ]
    },
    {
     "name": "stderr",
     "output_type": "stream",
     "text": [
      "[Parallel(n_jobs=10)]: Done 180 tasks      | elapsed: 97.0min\n"
     ]
    },
    {
     "name": "stdout",
     "output_type": "stream",
     "text": [
      "[CV]  svm__C=100.0, svm__gamma=1.0, score=0.9197983664615778, total=16.5min\n",
      "[CV] svm__C=1000.0, svm__gamma=0.01 ..................................\n",
      "[CV]  svm__C=100.0, svm__gamma=1.0, score=0.9182362117493807, total=16.5min\n",
      "[CV] svm__C=1000.0, svm__gamma=0.01 ..................................\n",
      "[CV]  svm__C=100.0, svm__gamma=10.0, score=0.8543532432338128, total=15.3min\n",
      "[CV] svm__C=1000.0, svm__gamma=0.01 ..................................\n",
      "[CV]  svm__C=1000.0, svm__gamma=0.0001, score=0.951827626513451, total= 1.9min\n",
      "[CV] svm__C=1000.0, svm__gamma=0.01 ..................................\n",
      "[CV]  svm__C=1000.0, svm__gamma=0.0001, score=0.9596943730445806, total= 1.8min\n",
      "[CV] svm__C=1000.0, svm__gamma=0.01 ..................................\n",
      "[CV]  svm__C=1000.0, svm__gamma=0.001, score=0.9398661301015364, total= 2.8min\n",
      "[CV] svm__C=1000.0, svm__gamma=0.1 ...................................\n",
      "[CV]  svm__C=1000.0, svm__gamma=0.001, score=0.9597089114783842, total= 2.9min\n",
      "[CV] svm__C=1000.0, svm__gamma=0.1 ...................................\n",
      "[CV]  svm__C=1000.0, svm__gamma=0.001, score=0.9534268542318474, total= 3.1min\n",
      "[CV] svm__C=1000.0, svm__gamma=0.1 ...................................\n",
      "[CV]  svm__C=1000.0, svm__gamma=0.001, score=0.9525152944323614, total= 3.2min\n",
      "[CV] svm__C=1000.0, svm__gamma=0.1 ...................................\n",
      "[CV]  svm__C=1000.0, svm__gamma=0.001, score=0.9541508682352667, total= 3.3min\n",
      "[CV] svm__C=1000.0, svm__gamma=0.1 ...................................\n",
      "[CV]  svm__C=1000.0, svm__gamma=0.01, score=0.9418368148036148, total= 3.4min\n",
      "[CV] svm__C=1000.0, svm__gamma=1.0 ...................................\n",
      "[CV]  svm__C=1000.0, svm__gamma=0.01, score=0.9523459216785495, total= 3.4min\n",
      "[CV] svm__C=1000.0, svm__gamma=1.0 ...................................\n",
      "[CV]  svm__C=1000.0, svm__gamma=0.01, score=0.9485862826969376, total= 3.5min\n",
      "[CV] svm__C=1000.0, svm__gamma=1.0 ...................................\n",
      "[CV]  svm__C=1000.0, svm__gamma=0.01, score=0.9440953604950046, total= 3.6min\n",
      "[CV] svm__C=1000.0, svm__gamma=1.0 ...................................\n",
      "[CV]  svm__C=1000.0, svm__gamma=0.1, score=0.9161990137126508, total= 2.3min\n",
      "[CV] svm__C=1000.0, svm__gamma=1.0 ...................................\n",
      "[CV]  svm__C=1000.0, svm__gamma=0.01, score=0.9497231882203794, total= 3.5min\n",
      "[CV] svm__C=1000.0, svm__gamma=10.0 ..................................\n",
      "[CV]  svm__C=1000.0, svm__gamma=0.1, score=0.9358935030647019, total= 2.3min\n",
      "[CV] svm__C=1000.0, svm__gamma=10.0 ..................................\n",
      "[CV]  svm__C=1000.0, svm__gamma=0.1, score=0.9349775817350748, total= 2.7min\n",
      "[CV] svm__C=1000.0, svm__gamma=10.0 ..................................\n",
      "[CV]  svm__C=1000.0, svm__gamma=0.1, score=0.9347238860652021, total= 2.7min\n",
      "[CV] svm__C=1000.0, svm__gamma=10.0 ..................................\n",
      "[CV]  svm__C=1000.0, svm__gamma=0.1, score=0.9401750718198629, total= 2.6min\n",
      "[CV] svm__C=1000.0, svm__gamma=10.0 ..................................\n",
      "[CV]  svm__C=1000.0, svm__gamma=10.0, score=0.8661980687144535, total=10.9min\n",
      "[CV] svm__C=10000.0, svm__gamma=1e-05 ................................\n"
     ]
    },
    {
     "name": "stderr",
     "output_type": "stream",
     "text": [
      "[Parallel(n_jobs=10)]: Done 201 tasks      | elapsed: 114.3min\n"
     ]
    },
    {
     "name": "stdout",
     "output_type": "stream",
     "text": [
      "[CV]  svm__C=10000.0, svm__gamma=1e-05, score=0.9482402679724119, total= 1.7min\n",
      "[CV] svm__C=10000.0, svm__gamma=1e-05 ................................\n",
      "[CV]  svm__C=1000.0, svm__gamma=10.0, score=0.8343625332930134, total=13.4min\n",
      "[CV] svm__C=10000.0, svm__gamma=1e-05 ................................\n",
      "[CV]  svm__C=1000.0, svm__gamma=1.0, score=0.9197438473348144, total=15.3min\n",
      "[CV] svm__C=10000.0, svm__gamma=1e-05 ................................\n",
      "[CV]  svm__C=1000.0, svm__gamma=10.0, score=0.8508269461147488, total=13.7min\n",
      "[CV] svm__C=10000.0, svm__gamma=1e-05 ................................\n",
      "[CV]  svm__C=1000.0, svm__gamma=1.0, score=0.9197983664615778, total=15.0min\n",
      "[CV] svm__C=10000.0, svm__gamma=0.0001 ...............................\n",
      "[CV]  svm__C=1000.0, svm__gamma=10.0, score=0.8543532432338128, total=13.7min\n",
      "[CV] svm__C=10000.0, svm__gamma=0.0001 ...............................\n",
      "[CV]  svm__C=1000.0, svm__gamma=1.0, score=0.8968556275369567, total=16.5min\n",
      "[CV] svm__C=10000.0, svm__gamma=0.0001 ...............................\n",
      "[CV]  svm__C=10000.0, svm__gamma=1e-05, score=0.9605630444643459, total= 1.8min\n",
      "[CV] svm__C=10000.0, svm__gamma=0.0001 ...............................\n",
      "[CV]  svm__C=1000.0, svm__gamma=10.0, score=0.8584556257923447, total=14.6min\n",
      "[CV] svm__C=10000.0, svm__gamma=0.0001 ...............................\n",
      "[CV]  svm__C=10000.0, svm__gamma=1e-05, score=0.9560575838286092, total= 2.1min\n",
      "[CV] svm__C=10000.0, svm__gamma=0.001 ................................\n",
      "[CV]  svm__C=1000.0, svm__gamma=1.0, score=0.9130078274927598, total=16.3min\n",
      "[CV] svm__C=10000.0, svm__gamma=0.001 ................................\n",
      "[CV]  svm__C=10000.0, svm__gamma=1e-05, score=0.9557711766826783, total= 1.9min\n",
      "[CV] svm__C=10000.0, svm__gamma=0.001 ................................\n",
      "[CV]  svm__C=1000.0, svm__gamma=1.0, score=0.9182362117493807, total=16.5min\n",
      "[CV] svm__C=10000.0, svm__gamma=0.001 ................................\n",
      "[CV]  svm__C=10000.0, svm__gamma=1e-05, score=0.9613764698356575, total= 2.0min\n",
      "[CV] svm__C=10000.0, svm__gamma=0.001 ................................\n"
     ]
    }
   ],
   "source": [
    "from sklearn import svm\n",
    "from sklearn.model_selection import StratifiedShuffleSplit, GridSearchCV\n",
    "from sklearn.preprocessing import StandardScaler\n",
    "from sklearn.pipeline import Pipeline\n",
    "import numpy as np\n",
    "\n",
    "steps = [('scaler', StandardScaler()),('svm', svm.SVC(kernel='rbf', probability=True))]\n",
    "\n",
    "pipeline = Pipeline(steps)\n",
    "\n",
    "#clf = svm.LinearSVC() #Radial basis function kernel \n",
    "C_range = np.logspace(-2, 4, 7)\n",
    "gamma_range = np.logspace(-5, 1, 7)\n",
    "param_grid = {'svm__C':C_range, 'svm__gamma':gamma_range}\n",
    "\n",
    "cv = StratifiedShuffleSplit(n_splits=5, test_size=0.2, random_state=42)\n",
    "svm_cv = GridSearchCV(pipeline, param_grid, scoring='roc_auc', cv=cv, verbose=10, n_jobs=10)\n",
    "svm_cv.fit(X_train, y_train)\n",
    "\n",
    "# Print the tuned parameters and score\n",
    "print(\"Tuned Support Vector Machine Parameters: {}\".format(svm_cv.best_params_)) \n",
    "print(\"Best score is {}\".format(svm_cv.best_score_))"
   ]
  },
  {
   "cell_type": "markdown",
   "metadata": {},
   "source": [
    "### RBF"
   ]
  },
  {
   "cell_type": "code",
   "execution_count": 5,
   "metadata": {},
   "outputs": [
    {
     "name": "stdout",
     "output_type": "stream",
     "text": [
      "0.990562\n",
      "[[493730   4436]\n",
      " [   283   1551]]\n"
     ]
    }
   ],
   "source": [
    "from sklearn import svm\n",
    "from sklearn.model_selection import StratifiedShuffleSplit, GridSearchCV\n",
    "from sklearn.preprocessing import StandardScaler\n",
    "from sklearn.pipeline import Pipeline\n",
    "import numpy as np\n",
    "from sklearn.metrics import confusion_matrix\n",
    "\n",
    "C = 10000#svm_cv.best_params_['svm__C']\n",
    "gamma = 0.00001#svm_cv.best_params_['svm__gamma']\n",
    "steps = [('scaler', StandardScaler()),('svm', svm.SVC(C=C, gamma=gamma, kernel='rbf', probability=True))]\n",
    "pipeline = Pipeline(steps)# ( kernel='linear', probability=True)\n",
    "pipeline.fit(X_train, y_train)\n",
    "y_pred = pipeline.predict(X_test)\n",
    "print(pipeline.score(X_test, y_test))\n",
    "print(confusion_matrix(y_test, y_pred))"
   ]
  },
  {
   "cell_type": "code",
   "execution_count": 6,
   "metadata": {},
   "outputs": [
    {
     "name": "stdout",
     "output_type": "stream",
     "text": [
      "0.9497932663910219\n",
      "[[10090    68]\n",
      " [  612  2774]]\n",
      "0.990562\n",
      "[[493730   4436]\n",
      " [   283   1551]]\n"
     ]
    }
   ],
   "source": [
    "y_pred = pipeline.predict(X_train)\n",
    "print(pipeline.score(X_train, y_train))\n",
    "print(confusion_matrix(y_train, y_pred))\n",
    "\n",
    "y_pred = pipeline.predict(X_test)\n",
    "print(pipeline.score(X_test, y_test))\n",
    "print(confusion_matrix(y_test, y_pred))"
   ]
  },
  {
   "cell_type": "markdown",
   "metadata": {},
   "source": [
    "### ROC Curve and AUC"
   ]
  },
  {
   "cell_type": "code",
   "execution_count": 7,
   "metadata": {},
   "outputs": [
    {
     "name": "stdout",
     "output_type": "stream",
     "text": [
      "AUC: 0.9599897265043862\n"
     ]
    },
    {
     "data": {
      "text/plain": [
       "<matplotlib.figure.Figure at 0x7f13d28604e0>"
      ]
     },
     "metadata": {},
     "output_type": "display_data"
    }
   ],
   "source": [
    "from sklearn.metrics import roc_curve, roc_auc_score\n",
    "from sklearn.model_selection import cross_val_score\n",
    "import matplotlib.pyplot as plt\n",
    "\n",
    "y_pred_prob = pipeline.predict_proba(X_test)[:,1]\n",
    "\n",
    "fpr, tpr, threshold = roc_curve(y_test, y_pred_prob)\n",
    "auc = roc_auc_score(y_test, y_pred_prob)\n",
    "print('AUC: {}'.format(auc))\n",
    "\n",
    "plt.plot([0,1], [0,1], 'k--')\n",
    "plt.plot(fpr, tpr, label='SVM(Radial basis function kernel )')\n",
    "plt.xlabel('False Positive Rate')\n",
    "plt.ylabel('True Positive Rate')\n",
    "plt.title('SVM ROC Curve')\n",
    "plt.show()\n",
    "\n",
    "\n",
    "\n",
    "#iris_only1 = [1 if iris.target[i]==1 else 0 for i in range(len(iris.target))]\n",
    "#cv_scores = cross_val_score(clf, iris.data, iris_only1, cv = 5, scoring='roc_auc')\n",
    "#print(cv_scores)"
   ]
  },
  {
   "cell_type": "code",
   "execution_count": 8,
   "metadata": {},
   "outputs": [
    {
     "name": "stdout",
     "output_type": "stream",
     "text": [
      "[[493730   4436]\n",
      " [   283   1551]]\n",
      "             precision    recall  f1-score   support\n",
      "\n",
      "          0       1.00      0.99      1.00    498166\n",
      "          1       0.26      0.85      0.40      1834\n",
      "\n",
      "avg / total       1.00      0.99      0.99    500000\n",
      "\n"
     ]
    },
    {
     "data": {
      "image/png": "[encoded data removed]",
      "text/plain": [
       "<matplotlib.figure.Figure at 0x7f136b82ee80>"
      ]
     },
     "metadata": {},
     "output_type": "display_data"
    },
    {
     "name": "stdout",
     "output_type": "stream",
     "text": [
      "0.9599897265043862 0.8625954198473282 0.8456924754634678 0.9910953376986787 0.25906129948221146\n"
     ]
    }
   ],
   "source": [
    "from sklearn.metrics import confusion_matrix, classification_report, roc_auc_score\n",
    "\n",
    "c_mat = confusion_matrix(y_test, y_pred)\n",
    "print(c_mat)\n",
    "print(classification_report(y_test, y_pred))\n",
    "\n",
    "#fdr score\n",
    "order = np.argsort(-y_pred)\n",
    "fdr_arr = np.cumsum(y_test[order])/np.sum(y_test)\n",
    "fdr_percent = np.arange(1,len(y_test)+1).astype(float)/len(y_test)\n",
    "\n",
    "plt.plot(range(len(y_test)), fdr_arr)\n",
    "plt.show()\n",
    "\n",
    "fdr_rate = 0.1\n",
    "fdr_arr = np.vstack([fdr_percent, fdr_arr]).T\n",
    "fdr_arr = fdr_arr[fdr_percent < fdr_rate,:]\n",
    "fdr_arr = fdr_arr[np.argsort(-fdr_arr[:,0])]\n",
    "fdr = fdr_arr[0,1]\n",
    "\n",
    "auc = roc_auc_score(y_test, y_pred_prob)\n",
    "specificity = 1 - c_mat[0][1] / (c_mat[0][0]+c_mat[0][1])\n",
    "sensitivity = c_mat[1][1] / (c_mat[1][0]+c_mat[1][1]) #Recall\n",
    "precision = c_mat[1][1] / (c_mat[0][1]+c_mat[1][1]) #Recall\n",
    "print(auc, fdr, sensitivity, specificity, precision)"
   ]
  }
 ],
 "metadata": {
  "kernelspec": {
   "display_name": "Python [default]",
   "language": "python",
   "name": "python3"
  },
  "language_info": {
   "codemirror_mode": {
    "name": "ipython",
    "version": 3
   },
   "file_extension": ".py",
   "mimetype": "text/x-python",
   "name": "python",
   "nbconvert_exporter": "python",
   "pygments_lexer": "ipython3",
   "version": "3.5.4"
  }
 },
 "nbformat": 4,
 "nbformat_minor": 2
}
