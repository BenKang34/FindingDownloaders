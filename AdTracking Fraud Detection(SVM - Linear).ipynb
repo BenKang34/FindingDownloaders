{
 "cells": [
  {
   "cell_type": "markdown",
   "metadata": {},
   "source": [
    "# TalkingData AdTracking Fraud Detection Challenge\n",
    "\n",
    "https://www.kaggle.com/c/talkingdata-adtracking-fraud-detection\n",
    "\n",
    "Fraud risk is everywhere, but for companies that advertise online, click fraud can happen at an overwhelming volume, resulting in misleading click data and wasted money. Ad channels can drive up costs by simply clicking on the ad at a large scale. With over 1 billion smart mobile devices in active use every month, China is the largest mobile market in the world and therefore suffers from huge volumes of fradulent traffic.\n",
    "\n",
    "TalkingData, China’s largest independent big data service platform, covers over 70% of active mobile devices nationwide. They handle 3 billion clicks per day, of which 90% are potentially fraudulent. Their current approach to prevent click fraud for app developers is to measure the journey of a user’s click across their portfolio, and flag IP addresses who produce lots of clicks, but never end up installing apps. With this information, they've built an IP blacklist and device blacklist.\n",
    "\n",
    "While successful, they want to always be one step ahead of fraudsters and have turned to the Kaggle community for help in further developing their solution. In their 2nd competition with Kaggle, **you’re challenged to build an algorithm that predicts whether a user will download an app after clicking a mobile app ad.** To support your modeling, they have provided a generous dataset covering approximately 200 million clicks over 4 days!"
   ]
  },
  {
   "cell_type": "code",
   "execution_count": 2,
   "metadata": {
    "scrolled": true
   },
   "outputs": [
    {
     "name": "stdout",
     "output_type": "stream",
     "text": [
      "<class 'pandas.core.frame.DataFrame'>\n",
      "RangeIndex: 1500000 entries, 0 to 1499999\n",
      "Data columns (total 76 columns):\n",
      "record              1500000 non-null int64\n",
      "channelIp10s        1500000 non-null int64\n",
      "channelIp3s         1500000 non-null int64\n",
      "channelApp10s       1500000 non-null int64\n",
      "channelApp3s        1500000 non-null int64\n",
      "channelDevice10s    1500000 non-null int64\n",
      "channelDevice3s     1500000 non-null int64\n",
      "channelOs10s        1500000 non-null int64\n",
      "channelOs3s         1500000 non-null int64\n",
      "osIp10s             1500000 non-null int64\n",
      "osIp3s              1500000 non-null int64\n",
      "osApp10s            1500000 non-null int64\n",
      "osApp3s             1500000 non-null int64\n",
      "osDevice10s         1500000 non-null int64\n",
      "osDevice3s          1500000 non-null int64\n",
      "osChannel10s        1500000 non-null int64\n",
      "osChannel3s         1500000 non-null int64\n",
      "deviceIp1s          1500000 non-null int64\n",
      "deviceApp1s         1500000 non-null int64\n",
      "deviceOs1s          1500000 non-null int64\n",
      "deviceChannel1s     1500000 non-null int64\n",
      "appIp10s            1500000 non-null int64\n",
      "appIp3s             1500000 non-null int64\n",
      "appDevice10s        1500000 non-null int64\n",
      "appDevice3s         1500000 non-null int64\n",
      "appOs10s            1500000 non-null int64\n",
      "appOs3s             1500000 non-null int64\n",
      "appChannel10s       1500000 non-null int64\n",
      "appChannel3s        1500000 non-null int64\n",
      "ipApp10s            1500000 non-null int64\n",
      "ipApp3s             1500000 non-null int64\n",
      "ipDevice10s         1500000 non-null int64\n",
      "ipDevice3s          1500000 non-null int64\n",
      "ipOs10s             1500000 non-null int64\n",
      "ipOs3s              1500000 non-null int64\n",
      "ipChannel10s        1500000 non-null int64\n",
      "ipChannel3s         1500000 non-null int64\n",
      "hour                1500000 non-null int64\n",
      "hourAttrib          1500000 non-null float64\n",
      "channel             1500000 non-null int64\n",
      "channelAttrib       1500000 non-null float64\n",
      "os                  1500000 non-null int64\n",
      "osAttrib            1500000 non-null float64\n",
      "device              1500000 non-null int64\n",
      "deviceAttrib        1500000 non-null float64\n",
      "app                 1500000 non-null int64\n",
      "appAttrib           1500000 non-null float64\n",
      "ip                  1500000 non-null int64\n",
      "ipAttrib            1500000 non-null float64\n",
      "click_time          1500000 non-null object\n",
      "is_attributed       1500000 non-null int64\n",
      "ip60s               1500000 non-null int64\n",
      "ip30s               1500000 non-null int64\n",
      "ip10s               1500000 non-null int64\n",
      "ip3s                1500000 non-null int64\n",
      "ip1s                1500000 non-null int64\n",
      "app60s              1500000 non-null int64\n",
      "app30s              1500000 non-null int64\n",
      "app10s              1500000 non-null int64\n",
      "app3s               1500000 non-null int64\n",
      "app1s               1500000 non-null int64\n",
      "device60s           1500000 non-null int64\n",
      "device30s           1500000 non-null int64\n",
      "device10s           1500000 non-null int64\n",
      "device3s            1500000 non-null int64\n",
      "device1s            1500000 non-null int64\n",
      "os60s               1500000 non-null int64\n",
      "os30s               1500000 non-null int64\n",
      "os10s               1500000 non-null int64\n",
      "os3s                1500000 non-null int64\n",
      "os1s                1500000 non-null int64\n",
      "channel60s          1500000 non-null int64\n",
      "channel30s          1500000 non-null int64\n",
      "channel10s          1500000 non-null int64\n",
      "channel3s           1500000 non-null int64\n",
      "channel1s           1500000 non-null int64\n",
      "dtypes: float64(6), int64(69), object(1)\n",
      "memory usage: 869.8+ MB\n"
     ]
    }
   ],
   "source": [
    "import pandas as pd\n",
    "\n",
    "df = pd.read_csv('train_all.csv')\n",
    "df.info()"
   ]
  },
  {
   "cell_type": "code",
   "execution_count": 16,
   "metadata": {},
   "outputs": [
    {
     "name": "stdout",
     "output_type": "stream",
     "text": [
      "[0 0 0 0 0 0 0 0 0 0]\n",
      "   appIp3s  appDevice10s  appDevice3s  appOs10s  appOs3s  appChannel10s  \\\n",
      "0        1             1            1         1        1              1   \n",
      "1        2             1            1         2        2              2   \n",
      "2        1             1            1         1        1              1   \n",
      "3        2             2            2         2        2              2   \n",
      "4        1             1            1         1        1              1   \n",
      "\n",
      "   appChannel3s  ipApp10s  ipApp3s  ipDevice10s  ipDevice3s  ipOs10s  ipOs3s  \\\n",
      "0             1         1        1            1           1        1       1   \n",
      "1             2         1        1            1           1        1       1   \n",
      "2             1         1        1            1           1        1       1   \n",
      "3             2         1        1            1           1        1       1   \n",
      "4             1         1        1            1           1        1       1   \n",
      "\n",
      "   ipChannel10s  ipChannel3s hour  hourAttrib channel  channelAttrib  \n",
      "0             1            1    1    0.002892     236       0.000287  \n",
      "1             1            1    1    0.002892     477       0.000169  \n",
      "2             1            1    1    0.002892     452       0.000291  \n",
      "3             1            1    1    0.002892     280       0.000270  \n",
      "4             1            1    1    0.002892     215       0.001064  \n"
     ]
    }
   ],
   "source": [
    "#get y\n",
    "y = df.is_attributed.values\n",
    "\n",
    "#get X and drop y \n",
    "X = df.drop(columns=['record', 'click_time', 'is_attributed', 'ip'])\n",
    "X.hour = X.hour.astype('category')\n",
    "X.channel = X.channel.astype('category')\n",
    "X.os = X.os.astype('category')\n",
    "X.device = X.device.astype('category')\n",
    "X.app = X.app.astype('category')\n",
    "\n",
    "print(y[:10])\n",
    "print(X.iloc[:5,21:40])"
   ]
  },
  {
   "cell_type": "code",
   "execution_count": 17,
   "metadata": {},
   "outputs": [],
   "source": [
    "X = X.drop(columns=['hour', 'channel', 'os', 'device', 'app'])"
   ]
  },
  {
   "cell_type": "markdown",
   "metadata": {},
   "source": [
    "### Downsampling"
   ]
  },
  {
   "cell_type": "code",
   "execution_count": 18,
   "metadata": {},
   "outputs": [
    {
     "name": "stderr",
     "output_type": "stream",
     "text": [
      "/Users/simba/anaconda3/lib/python3.6/site-packages/sklearn/model_selection/_split.py:2026: FutureWarning: From version 0.21, test_size will always complement train_size unless both are specified.\n",
      "  FutureWarning)\n"
     ]
    },
    {
     "name": "stdout",
     "output_type": "stream",
     "text": [
      "3386 996614 10158\n",
      "13544\n",
      "<class 'pandas.core.frame.DataFrame'>\n",
      "Int64Index: 13544 entries, 1072 to 245549\n",
      "Data columns (total 67 columns):\n",
      "channelIp10s        13544 non-null int64\n",
      "channelIp3s         13544 non-null int64\n",
      "channelApp10s       13544 non-null int64\n",
      "channelApp3s        13544 non-null int64\n",
      "channelDevice10s    13544 non-null int64\n",
      "channelDevice3s     13544 non-null int64\n",
      "channelOs10s        13544 non-null int64\n",
      "channelOs3s         13544 non-null int64\n",
      "osIp10s             13544 non-null int64\n",
      "osIp3s              13544 non-null int64\n",
      "osApp10s            13544 non-null int64\n",
      "osApp3s             13544 non-null int64\n",
      "osDevice10s         13544 non-null int64\n",
      "osDevice3s          13544 non-null int64\n",
      "osChannel10s        13544 non-null int64\n",
      "osChannel3s         13544 non-null int64\n",
      "deviceIp1s          13544 non-null int64\n",
      "deviceApp1s         13544 non-null int64\n",
      "deviceOs1s          13544 non-null int64\n",
      "deviceChannel1s     13544 non-null int64\n",
      "appIp10s            13544 non-null int64\n",
      "appIp3s             13544 non-null int64\n",
      "appDevice10s        13544 non-null int64\n",
      "appDevice3s         13544 non-null int64\n",
      "appOs10s            13544 non-null int64\n",
      "appOs3s             13544 non-null int64\n",
      "appChannel10s       13544 non-null int64\n",
      "appChannel3s        13544 non-null int64\n",
      "ipApp10s            13544 non-null int64\n",
      "ipApp3s             13544 non-null int64\n",
      "ipDevice10s         13544 non-null int64\n",
      "ipDevice3s          13544 non-null int64\n",
      "ipOs10s             13544 non-null int64\n",
      "ipOs3s              13544 non-null int64\n",
      "ipChannel10s        13544 non-null int64\n",
      "ipChannel3s         13544 non-null int64\n",
      "hourAttrib          13544 non-null float64\n",
      "channelAttrib       13544 non-null float64\n",
      "osAttrib            13544 non-null float64\n",
      "deviceAttrib        13544 non-null float64\n",
      "appAttrib           13544 non-null float64\n",
      "ipAttrib            13544 non-null float64\n",
      "ip60s               13544 non-null int64\n",
      "ip30s               13544 non-null int64\n",
      "ip10s               13544 non-null int64\n",
      "ip3s                13544 non-null int64\n",
      "ip1s                13544 non-null int64\n",
      "app60s              13544 non-null int64\n",
      "app30s              13544 non-null int64\n",
      "app10s              13544 non-null int64\n",
      "app3s               13544 non-null int64\n",
      "app1s               13544 non-null int64\n",
      "device60s           13544 non-null int64\n",
      "device30s           13544 non-null int64\n",
      "device10s           13544 non-null int64\n",
      "device3s            13544 non-null int64\n",
      "device1s            13544 non-null int64\n",
      "os60s               13544 non-null int64\n",
      "os30s               13544 non-null int64\n",
      "os10s               13544 non-null int64\n",
      "os3s                13544 non-null int64\n",
      "os1s                13544 non-null int64\n",
      "channel60s          13544 non-null int64\n",
      "channel30s          13544 non-null int64\n",
      "channel10s          13544 non-null int64\n",
      "channel3s           13544 non-null int64\n",
      "channel1s           13544 non-null int64\n",
      "dtypes: float64(6), int64(61)\n",
      "memory usage: 7.0 MB\n",
      "1834\n"
     ]
    }
   ],
   "source": [
    "import numpy as np\n",
    "from sklearn.model_selection import train_test_split\n",
    "\n",
    "X_train, X_test, y_train, y_test = train_test_split(X, y, train_size=1000000, shuffle=False)\n",
    "\n",
    "goods = (y_train==1)\n",
    "\n",
    "X_train_goods = X_train[goods]\n",
    "y_train_goods = y_train[goods]\n",
    "\n",
    "X_train_bads = X_train[~goods]\n",
    "y_train_bads = y_train[~goods]\n",
    "\n",
    "index = np.random.choice(range(len(y_train_bads)), len(y_train_goods)*3)\n",
    "\n",
    "print(len(y_train_goods), len(y_train_bads), len(index))\n",
    "\n",
    "X_train = pd.concat( [X_train_goods,X_train_bads.iloc[index,:]], axis=0)\n",
    "y_train = np.hstack([y_train_goods,y_train_bads[index]])\n",
    "\n",
    "print(len(y_train))\n",
    "X_train.info()\n",
    "\n",
    "print(sum(y_test == 1))"
   ]
  },
  {
   "cell_type": "markdown",
   "metadata": {},
   "source": [
    "## Cross Validation for Support Vector Machine"
   ]
  },
  {
   "cell_type": "code",
   "execution_count": 10,
   "metadata": {},
   "outputs": [
    {
     "name": "stdout",
     "output_type": "stream",
     "text": [
      "Tuned Support Vector Machine Parameters: {'svm__C': 1.0}\n",
      "Best score is 0.9554205096593354\n"
     ]
    }
   ],
   "source": [
    "from sklearn import svm\n",
    "from sklearn.model_selection import StratifiedShuffleSplit, GridSearchCV\n",
    "from sklearn.preprocessing import StandardScaler\n",
    "from sklearn.pipeline import Pipeline\n",
    "import numpy as np\n",
    "\n",
    "steps = [('scaler', StandardScaler()),('svm', svm.LinearSVC())]#(kernel='linear', probability=True))]\n",
    "\n",
    "pipeline = Pipeline(steps)\n",
    "\n",
    "#clf = svm.LinearSVC() #Radial basis function kernel \n",
    "C_range = np.logspace(-2, 4, 7)\n",
    "#gamma_range = np.logspace(-9, 3, 13)\n",
    "param_grid = {'svm__C':C_range}#, 'svm__gamma':gamma_range}\n",
    "\n",
    "cv = StratifiedShuffleSplit(n_splits=5, test_size=0.2, random_state=42)\n",
    "svm_cv = GridSearchCV(pipeline, param_grid, scoring='roc_auc', cv=cv)\n",
    "svm_cv.fit(X_train, y_train)\n",
    "\n",
    "# Print the tuned parameters and score\n",
    "print(\"Tuned Support Vector Machine Parameters: {}\".format(svm_cv.best_params_)) \n",
    "print(\"Best score is {}\".format(svm_cv.best_score_))"
   ]
  },
  {
   "cell_type": "code",
   "execution_count": 11,
   "metadata": {},
   "outputs": [
    {
     "name": "stdout",
     "output_type": "stream",
     "text": [
      "0.99092\n",
      "[[493903   4263]\n",
      " [   277   1557]]\n"
     ]
    }
   ],
   "source": [
    "from sklearn.metrics import confusion_matrix\n",
    "\n",
    "C = svm_cv.best_params_['svm__C']\n",
    "clf = svm.LinearSVC(C=C)\n",
    "steps = [('scaler', StandardScaler()), ('svm', clf)]\n",
    "pipeline = Pipeline(steps)# ( kernel='linear', probability=True)\n",
    "pipeline.fit(X_train, y_train)\n",
    "y_pred = pipeline.predict(X_test)\n",
    "print(pipeline.score(X_test, y_test))\n",
    "print(confusion_matrix(y_test, y_pred))"
   ]
  },
  {
   "cell_type": "code",
   "execution_count": 12,
   "metadata": {
    "scrolled": true
   },
   "outputs": [
    {
     "name": "stdout",
     "output_type": "stream",
     "text": [
      "0.950088600118\n",
      "[[10073    85]\n",
      " [  591  2795]]\n",
      "0.99092\n",
      "[[493903   4263]\n",
      " [   277   1557]]\n"
     ]
    }
   ],
   "source": [
    "y_pred = pipeline.predict(X_train)\n",
    "print(pipeline.score(X_train, y_train))\n",
    "print(confusion_matrix(y_train, y_pred))\n",
    "\n",
    "y_pred = pipeline.predict(X_test)\n",
    "print(pipeline.score(X_test, y_test))\n",
    "print(confusion_matrix(y_test, y_pred))"
   ]
  },
  {
   "cell_type": "markdown",
   "metadata": {},
   "source": [
    "### ROC Curve and AUC"
   ]
  },
  {
   "cell_type": "code",
   "execution_count": 13,
   "metadata": {},
   "outputs": [
    {
     "name": "stdout",
     "output_type": "stream",
     "text": [
      "AUC: 0.835420867909249\n"
     ]
    },
    {
     "data": {
      "text/plain": [
       "<matplotlib.figure.Figure at 0x1a10a87940>"
      ]
     },
     "metadata": {},
     "output_type": "display_data"
    }
   ],
   "source": [
    "from sklearn.metrics import roc_curve, roc_auc_score\n",
    "from sklearn.model_selection import cross_val_score\n",
    "from sklearn.calibration import CalibratedClassifierCV\n",
    "import matplotlib.pyplot as plt\n",
    "\n",
    "# LinearSVC does not have \"predict_proba\" function\n",
    "clf2 = CalibratedClassifierCV(clf) \n",
    "clf2.fit(X_train, y_train)\n",
    "y_pred_prob = clf2.predict_proba(X_test)[:,1]\n",
    "\n",
    "fpr, tpr, threshold = roc_curve(y_test, y_pred_prob)\n",
    "auc = roc_auc_score(y_test, y_pred_prob)\n",
    "print('AUC: {}'.format(auc))\n",
    "\n",
    "plt.plot([0,1], [0,1], 'k--')\n",
    "plt.plot(fpr, tpr, label='SVM(Radial basis function kernel )')\n",
    "plt.xlabel('False Positive Rate')\n",
    "plt.ylabel('True Positive Rate')\n",
    "plt.title('SVM ROC Curve')\n",
    "plt.show()\n",
    "\n",
    "\n",
    "\n",
    "#iris_only1 = [1 if iris.target[i]==1 else 0 for i in range(len(iris.target))]\n",
    "#cv_scores = cross_val_score(clf, iris.data, iris_only1, cv = 5, scoring='roc_auc')\n",
    "#print(cv_scores)"
   ]
  },
  {
   "cell_type": "code",
   "execution_count": 15,
   "metadata": {},
   "outputs": [
    {
     "name": "stdout",
     "output_type": "stream",
     "text": [
      "[[493903   4263]\n",
      " [   277   1557]]\n",
      "             precision    recall  f1-score   support\n",
      "\n",
      "          0       1.00      0.99      1.00    498166\n",
      "          1       0.27      0.85      0.41      1834\n",
      "\n",
      "avg / total       1.00      0.99      0.99    500000\n",
      "\n"
     ]
    },
    {
     "data": {
      "image/png": "[encoded data removed]",
      "text/plain": [
       "<matplotlib.figure.Figure at 0x1066def28>"
      ]
     },
     "metadata": {},
     "output_type": "display_data"
    },
    {
     "name": "stdout",
     "output_type": "stream",
     "text": [
      "0.835420867909 0.8653217012 0.848964013086 0.991442611499 0.267525773196\n"
     ]
    }
   ],
   "source": [
    "from sklearn.metrics import confusion_matrix, classification_report, roc_auc_score\n",
    "\n",
    "c_mat = confusion_matrix(y_test, y_pred)\n",
    "print(c_mat)\n",
    "print(classification_report(y_test, y_pred))\n",
    "\n",
    "#fdr score\n",
    "order = np.argsort(-y_pred)\n",
    "fdr_arr = np.cumsum(y_test[order])/np.sum(y_test)\n",
    "fdr_percent = np.arange(1,len(y_test)+1).astype(float)/len(y_test)\n",
    "\n",
    "plt.plot(range(len(y_test)), fdr_arr)\n",
    "plt.show()\n",
    "\n",
    "fdr_rate = 0.1\n",
    "fdr_arr = np.vstack([fdr_percent, fdr_arr]).T\n",
    "fdr_arr = fdr_arr[fdr_percent < fdr_rate,:]\n",
    "fdr_arr = fdr_arr[np.argsort(-fdr_arr[:,0])]\n",
    "fdr = fdr_arr[0,1]\n",
    "\n",
    "auc = roc_auc_score(y_test, y_pred_prob)\n",
    "specificity = 1 - c_mat[0][1] / (c_mat[0][0]+c_mat[0][1])\n",
    "sensitivity = c_mat[1][1] / (c_mat[1][0]+c_mat[1][1]) #Recall\n",
    "precision = c_mat[1][1] / (c_mat[0][1]+c_mat[1][1]) #Recall\n",
    "print(auc, fdr, sensitivity, specificity, precision)"
   ]
  }
 ],
 "metadata": {
  "kernelspec": {
   "display_name": "Python 3",
   "language": "python",
   "name": "python3"
  },
  "language_info": {
   "codemirror_mode": {
    "name": "ipython",
    "version": 3
   },
   "file_extension": ".py",
   "mimetype": "text/x-python",
   "name": "python",
   "nbconvert_exporter": "python",
   "pygments_lexer": "ipython3",
   "version": "3.6.4"
  }
 },
 "nbformat": 4,
 "nbformat_minor": 2
}
