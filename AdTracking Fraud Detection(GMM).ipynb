{
 "cells": [
  {
   "cell_type": "markdown",
   "metadata": {},
   "source": [
    "# TalkingData AdTracking Fraud Detection Challenge\n",
    "\n",
    "https://www.kaggle.com/c/talkingdata-adtracking-fraud-detection\n",
    "\n",
    "Fraud risk is everywhere, but for companies that advertise online, click fraud can happen at an overwhelming volume, resulting in misleading click data and wasted money. Ad channels can drive up costs by simply clicking on the ad at a large scale. With over 1 billion smart mobile devices in active use every month, China is the largest mobile market in the world and therefore suffers from huge volumes of fradulent traffic.\n",
    "\n",
    "TalkingData, China’s largest independent big data service platform, covers over 70% of active mobile devices nationwide. They handle 3 billion clicks per day, of which 90% are potentially fraudulent. Their current approach to prevent click fraud for app developers is to measure the journey of a user’s click across their portfolio, and flag IP addresses who produce lots of clicks, but never end up installing apps. With this information, they've built an IP blacklist and device blacklist.\n",
    "\n",
    "While successful, they want to always be one step ahead of fraudsters and have turned to the Kaggle community for help in further developing their solution. In their 2nd competition with Kaggle, **you’re challenged to build an algorithm that predicts whether a user will download an app after clicking a mobile app ad.** To support your modeling, they have provided a generous dataset covering approximately 200 million clicks over 4 days!"
   ]
  },
  {
   "cell_type": "markdown",
   "metadata": {},
   "source": [
    "### Data Manipulating"
   ]
  },
  {
   "cell_type": "code",
   "execution_count": 1,
   "metadata": {
    "scrolled": false
   },
   "outputs": [
    {
     "name": "stdout",
     "output_type": "stream",
     "text": [
      "<class 'pandas.core.frame.DataFrame'>\n",
      "RangeIndex: 1500000 entries, 0 to 1499999\n",
      "Data columns (total 76 columns):\n",
      "record              1500000 non-null int64\n",
      "channelIp10s        1500000 non-null int64\n",
      "channelIp3s         1500000 non-null int64\n",
      "channelApp10s       1500000 non-null int64\n",
      "channelApp3s        1500000 non-null int64\n",
      "channelDevice10s    1500000 non-null int64\n",
      "channelDevice3s     1500000 non-null int64\n",
      "channelOs10s        1500000 non-null int64\n",
      "channelOs3s         1500000 non-null int64\n",
      "osIp10s             1500000 non-null int64\n",
      "osIp3s              1500000 non-null int64\n",
      "osApp10s            1500000 non-null int64\n",
      "osApp3s             1500000 non-null int64\n",
      "osDevice10s         1500000 non-null int64\n",
      "osDevice3s          1500000 non-null int64\n",
      "osChannel10s        1500000 non-null int64\n",
      "osChannel3s         1500000 non-null int64\n",
      "deviceIp1s          1500000 non-null int64\n",
      "deviceApp1s         1500000 non-null int64\n",
      "deviceOs1s          1500000 non-null int64\n",
      "deviceChannel1s     1500000 non-null int64\n",
      "appIp10s            1500000 non-null int64\n",
      "appIp3s             1500000 non-null int64\n",
      "appDevice10s        1500000 non-null int64\n",
      "appDevice3s         1500000 non-null int64\n",
      "appOs10s            1500000 non-null int64\n",
      "appOs3s             1500000 non-null int64\n",
      "appChannel10s       1500000 non-null int64\n",
      "appChannel3s        1500000 non-null int64\n",
      "ipApp10s            1500000 non-null int64\n",
      "ipApp3s             1500000 non-null int64\n",
      "ipDevice10s         1500000 non-null int64\n",
      "ipDevice3s          1500000 non-null int64\n",
      "ipOs10s             1500000 non-null int64\n",
      "ipOs3s              1500000 non-null int64\n",
      "ipChannel10s        1500000 non-null int64\n",
      "ipChannel3s         1500000 non-null int64\n",
      "hour                1500000 non-null int64\n",
      "hourAttrib          1500000 non-null float64\n",
      "channel             1500000 non-null int64\n",
      "channelAttrib       1500000 non-null float64\n",
      "os                  1500000 non-null int64\n",
      "osAttrib            1500000 non-null float64\n",
      "device              1500000 non-null int64\n",
      "deviceAttrib        1500000 non-null float64\n",
      "app                 1500000 non-null int64\n",
      "appAttrib           1500000 non-null float64\n",
      "ip                  1500000 non-null int64\n",
      "ipAttrib            1500000 non-null float64\n",
      "click_time          1500000 non-null object\n",
      "is_attributed       1500000 non-null int64\n",
      "ip60s               1500000 non-null int64\n",
      "ip30s               1500000 non-null int64\n",
      "ip10s               1500000 non-null int64\n",
      "ip3s                1500000 non-null int64\n",
      "ip1s                1500000 non-null int64\n",
      "app60s              1500000 non-null int64\n",
      "app30s              1500000 non-null int64\n",
      "app10s              1500000 non-null int64\n",
      "app3s               1500000 non-null int64\n",
      "app1s               1500000 non-null int64\n",
      "device60s           1500000 non-null int64\n",
      "device30s           1500000 non-null int64\n",
      "device10s           1500000 non-null int64\n",
      "device3s            1500000 non-null int64\n",
      "device1s            1500000 non-null int64\n",
      "os60s               1500000 non-null int64\n",
      "os30s               1500000 non-null int64\n",
      "os10s               1500000 non-null int64\n",
      "os3s                1500000 non-null int64\n",
      "os1s                1500000 non-null int64\n",
      "channel60s          1500000 non-null int64\n",
      "channel30s          1500000 non-null int64\n",
      "channel10s          1500000 non-null int64\n",
      "channel3s           1500000 non-null int64\n",
      "channel1s           1500000 non-null int64\n",
      "dtypes: float64(6), int64(69), object(1)\n",
      "memory usage: 869.8+ MB\n"
     ]
    }
   ],
   "source": [
    "import pandas as pd\n",
    "\n",
    "df = pd.read_csv('train_all.csv')\n",
    "df.info()"
   ]
  },
  {
   "cell_type": "code",
   "execution_count": 92,
   "metadata": {},
   "outputs": [
    {
     "name": "stdout",
     "output_type": "stream",
     "text": [
      "[0 0 0 0 0 0 0 0 0 0]\n",
      "   appIp3s  appDevice10s  appDevice3s  appOs10s  appOs3s  appChannel10s  \\\n",
      "0        1             1            1         1        1              1   \n",
      "1        2             1            1         2        2              2   \n",
      "2        1             1            1         1        1              1   \n",
      "3        2             2            2         2        2              2   \n",
      "4        1             1            1         1        1              1   \n",
      "\n",
      "   appChannel3s  ipApp10s  ipApp3s  ipDevice10s  ipDevice3s  ipOs10s  ipOs3s  \\\n",
      "0             1         1        1            1           1        1       1   \n",
      "1             2         1        1            1           1        1       1   \n",
      "2             1         1        1            1           1        1       1   \n",
      "3             2         1        1            1           1        1       1   \n",
      "4             1         1        1            1           1        1       1   \n",
      "\n",
      "   ipChannel10s  ipChannel3s hour  hourAttrib channel  channelAttrib  \n",
      "0             1            1    1    0.002892     236       0.000287  \n",
      "1             1            1    1    0.002892     477       0.000169  \n",
      "2             1            1    1    0.002892     452       0.000291  \n",
      "3             1            1    1    0.002892     280       0.000270  \n",
      "4             1            1    1    0.002892     215       0.001064  \n"
     ]
    }
   ],
   "source": [
    "#get y\n",
    "y = df.is_attributed.values\n",
    "\n",
    "#get X and drop y \n",
    "X = df.drop(columns=['record', 'click_time', 'is_attributed', 'ip'])#, 'channelAttrib', 'hourAttrib','osAttrib', 'deviceAttrib', 'appAttrib', 'ipAttrib'])\n",
    "X.hour = X.hour.astype('category')\n",
    "X.channel = X.channel.astype('category')\n",
    "X.os = X.os.astype('category')\n",
    "X.device = X.device.astype('category')\n",
    "X.app = X.app.astype('category')\n",
    "\n",
    "print(y[:10])\n",
    "print(X.iloc[:5,21:40])"
   ]
  },
  {
   "cell_type": "code",
   "execution_count": 93,
   "metadata": {},
   "outputs": [],
   "source": [
    "X = X.drop(columns=['hour', 'channel', 'os', 'device', 'app'])"
   ]
  },
  {
   "cell_type": "markdown",
   "metadata": {},
   "source": [
    "### Downsampling"
   ]
  },
  {
   "cell_type": "code",
   "execution_count": 94,
   "metadata": {},
   "outputs": [
    {
     "name": "stderr",
     "output_type": "stream",
     "text": [
      "/Users/simba/anaconda3/lib/python3.6/site-packages/sklearn/model_selection/_split.py:2026: FutureWarning: From version 0.21, test_size will always complement train_size unless both are specified.\n",
      "  FutureWarning)\n"
     ]
    },
    {
     "name": "stdout",
     "output_type": "stream",
     "text": [
      "3473 996527 10419\n",
      "13892\n",
      "<class 'pandas.core.frame.DataFrame'>\n",
      "Int64Index: 13892 entries, 514667 to 1019035\n",
      "Data columns (total 67 columns):\n",
      "channelIp10s        13892 non-null int64\n",
      "channelIp3s         13892 non-null int64\n",
      "channelApp10s       13892 non-null int64\n",
      "channelApp3s        13892 non-null int64\n",
      "channelDevice10s    13892 non-null int64\n",
      "channelDevice3s     13892 non-null int64\n",
      "channelOs10s        13892 non-null int64\n",
      "channelOs3s         13892 non-null int64\n",
      "osIp10s             13892 non-null int64\n",
      "osIp3s              13892 non-null int64\n",
      "osApp10s            13892 non-null int64\n",
      "osApp3s             13892 non-null int64\n",
      "osDevice10s         13892 non-null int64\n",
      "osDevice3s          13892 non-null int64\n",
      "osChannel10s        13892 non-null int64\n",
      "osChannel3s         13892 non-null int64\n",
      "deviceIp1s          13892 non-null int64\n",
      "deviceApp1s         13892 non-null int64\n",
      "deviceOs1s          13892 non-null int64\n",
      "deviceChannel1s     13892 non-null int64\n",
      "appIp10s            13892 non-null int64\n",
      "appIp3s             13892 non-null int64\n",
      "appDevice10s        13892 non-null int64\n",
      "appDevice3s         13892 non-null int64\n",
      "appOs10s            13892 non-null int64\n",
      "appOs3s             13892 non-null int64\n",
      "appChannel10s       13892 non-null int64\n",
      "appChannel3s        13892 non-null int64\n",
      "ipApp10s            13892 non-null int64\n",
      "ipApp3s             13892 non-null int64\n",
      "ipDevice10s         13892 non-null int64\n",
      "ipDevice3s          13892 non-null int64\n",
      "ipOs10s             13892 non-null int64\n",
      "ipOs3s              13892 non-null int64\n",
      "ipChannel10s        13892 non-null int64\n",
      "ipChannel3s         13892 non-null int64\n",
      "hourAttrib          13892 non-null float64\n",
      "channelAttrib       13892 non-null float64\n",
      "osAttrib            13892 non-null float64\n",
      "deviceAttrib        13892 non-null float64\n",
      "appAttrib           13892 non-null float64\n",
      "ipAttrib            13892 non-null float64\n",
      "ip60s               13892 non-null int64\n",
      "ip30s               13892 non-null int64\n",
      "ip10s               13892 non-null int64\n",
      "ip3s                13892 non-null int64\n",
      "ip1s                13892 non-null int64\n",
      "app60s              13892 non-null int64\n",
      "app30s              13892 non-null int64\n",
      "app10s              13892 non-null int64\n",
      "app3s               13892 non-null int64\n",
      "app1s               13892 non-null int64\n",
      "device60s           13892 non-null int64\n",
      "device30s           13892 non-null int64\n",
      "device10s           13892 non-null int64\n",
      "device3s            13892 non-null int64\n",
      "device1s            13892 non-null int64\n",
      "os60s               13892 non-null int64\n",
      "os30s               13892 non-null int64\n",
      "os10s               13892 non-null int64\n",
      "os3s                13892 non-null int64\n",
      "os1s                13892 non-null int64\n",
      "channel60s          13892 non-null int64\n",
      "channel30s          13892 non-null int64\n",
      "channel10s          13892 non-null int64\n",
      "channel3s           13892 non-null int64\n",
      "channel1s           13892 non-null int64\n",
      "dtypes: float64(6), int64(61)\n",
      "memory usage: 7.2 MB\n"
     ]
    }
   ],
   "source": [
    "import numpy as np\n",
    "from sklearn.model_selection import train_test_split\n",
    "\n",
    "X_train, X_test, y_train, y_test = train_test_split(X, y, train_size=1000000)\n",
    "\n",
    "goods = (y_train==1)\n",
    "\n",
    "X_train_goods = X_train[goods]\n",
    "y_train_goods = y_train[goods]\n",
    "\n",
    "X_train_bads = X_train[~goods]\n",
    "y_train_bads = y_train[~goods]\n",
    "\n",
    "index = np.random.choice(range(len(y_train_bads)), len(y_train_goods)*3)\n",
    "\n",
    "print(len(y_train_goods), len(y_train_bads), len(index))\n",
    "\n",
    "X_train = pd.concat( [X_train_goods,X_train_bads.iloc[index,:]], axis=0)\n",
    "y_train = np.hstack([y_train_goods,y_train_bads[index]])\n",
    "\n",
    "print(len(y_train))\n",
    "X_train.info()"
   ]
  },
  {
   "cell_type": "markdown",
   "metadata": {},
   "source": [
    "### Gaussian Mixture Model"
   ]
  },
  {
   "cell_type": "code",
   "execution_count": 95,
   "metadata": {},
   "outputs": [
    {
     "name": "stdout",
     "output_type": "stream",
     "text": [
      "spherical 1\n",
      "spherical 2\n",
      "spherical 3\n",
      "spherical 4\n",
      "spherical 5\n",
      "spherical 6\n",
      "spherical 7\n",
      "spherical 8\n",
      "spherical 9\n",
      "spherical 10\n",
      "spherical 11\n",
      "spherical 12\n",
      "spherical 13\n",
      "spherical 14\n",
      "tied 1\n",
      "tied 2\n",
      "tied 3\n",
      "tied 4\n",
      "tied 5\n",
      "tied 6\n",
      "tied 7\n",
      "tied 8\n",
      "tied 9\n",
      "tied 10\n",
      "tied 11\n",
      "tied 12\n",
      "tied 13\n",
      "tied 14\n",
      "diag 1\n",
      "diag 2\n",
      "diag 3\n",
      "diag 4\n",
      "diag 5\n",
      "diag 6\n",
      "diag 7\n",
      "diag 8\n",
      "diag 9\n",
      "diag 10\n",
      "diag 11\n",
      "diag 12\n",
      "diag 13\n",
      "diag 14\n",
      "full 1\n",
      "full 2\n",
      "full 3\n",
      "full 4\n",
      "full 5\n",
      "full 6\n",
      "full 7\n",
      "full 8\n",
      "full 9\n",
      "full 10\n",
      "full 11\n",
      "full 12\n",
      "full 13\n",
      "full 14\n"
     ]
    }
   ],
   "source": [
    "import numpy as np\n",
    "import itertools\n",
    "\n",
    "from scipy import linalg\n",
    "import matplotlib.pyplot as plt\n",
    "import matplotlib as mpl\n",
    "\n",
    "from sklearn import mixture\n",
    "\n",
    "from sklearn.model_selection import train_test_split\n",
    "\n",
    "lowest_bic = np.infty\n",
    "bic = []\n",
    "score = []\n",
    "n_components_range = range(1, 15)\n",
    "cv_types = ['spherical', 'tied', 'diag', 'full']\n",
    "for cv_type in cv_types:\n",
    "    score_tmp = []\n",
    "    for n_components in n_components_range:\n",
    "        # Fit a Gaussian mixture with EM\n",
    "        gmm = mixture.GaussianMixture(n_components=n_components,\n",
    "                                      covariance_type=cv_type)\n",
    "        gmm.fit(X_train)\n",
    "        bic.append(gmm.bic(X_train))\n",
    "        if bic[-1] < lowest_bic:\n",
    "            lowest_bic = bic[-1]\n",
    "            best_gmm = gmm\n",
    "        score_tmp.append(gmm.score(X_train))\n",
    "        print(cv_type, n_components)\n",
    "    score.append(score_tmp)"
   ]
  },
  {
   "cell_type": "code",
   "execution_count": 97,
   "metadata": {},
   "outputs": [
    {
     "name": "stdout",
     "output_type": "stream",
     "text": [
      "GaussianMixture(covariance_type='full', init_params='kmeans', max_iter=100,\n",
      "        means_init=None, n_components=9, n_init=1, precisions_init=None,\n",
      "        random_state=None, reg_covar=1e-06, tol=0.001, verbose=0,\n",
      "        verbose_interval=10, warm_start=False, weights_init=None)\n"
     ]
    },
    {
     "data": {
      "image/png": "[encoded data removed]",
      "text/plain": [
       "<matplotlib.figure.Figure at 0x11a4a6630>"
      ]
     },
     "metadata": {},
     "output_type": "display_data"
    }
   ],
   "source": [
    "print(best_gmm)\n",
    "\n",
    "import matplotlib.pyplot as plot\n",
    "\n",
    "plt.plot(range(1,15), score[0], 'r--', range(1,15), score[1], 'bs', range(1,15), score[2], 'g^', range(1,15), score[3])\n",
    "plt.show()\n"
   ]
  },
  {
   "cell_type": "code",
   "execution_count": 143,
   "metadata": {},
   "outputs": [
    {
     "name": "stdout",
     "output_type": "stream",
     "text": [
      "[[  80  363  114 1037 1137  157  308 3439 3784]\n",
      " [1268  616 1033   15   73   27   55  273  113]\n",
      " [   0    0    0    0    0    0    0    0    0]\n",
      " [   0    0    0    0    0    0    0    0    0]\n",
      " [   0    0    0    0    0    0    0    0    0]\n",
      " [   0    0    0    0    0    0    0    0    0]\n",
      " [   0    0    0    0    0    0    0    0    0]\n",
      " [   0    0    0    0    0    0    0    0    0]\n",
      " [   0    0    0    0    0    0    0    0    0]]\n",
      "[[  3427  16286   4698  48231  55950   7422  15580 163552 183107]\n",
      " [   573    297    584     11     34      8     50    126     64]\n",
      " [     0      0      0      0      0      0      0      0      0]\n",
      " [     0      0      0      0      0      0      0      0      0]\n",
      " [     0      0      0      0      0      0      0      0      0]\n",
      " [     0      0      0      0      0      0      0      0      0]\n",
      " [     0      0      0      0      0      0      0      0      0]\n",
      " [     0      0      0      0      0      0      0      0      0]\n",
      " [     0      0      0      0      0      0      0      0      0]]\n"
     ]
    },
    {
     "data": {
      "text/plain": [
       "array([0.94065282, 0.62921348, 0.90061029, 0.01425856, 0.06033058,\n",
       "       0.14673913, 0.15151515, 0.07354526, 0.02899666])"
      ]
     },
     "execution_count": 143,
     "metadata": {},
     "output_type": "execute_result"
    }
   ],
   "source": [
    "from sklearn.metrics import confusion_matrix\n",
    "\n",
    "clf = mixture.GaussianMixture(n_components=9, covariance_type='full')\n",
    "clf.fit(X_train)\n",
    "\n",
    "y_pred = clf.predict(X_train)\n",
    "print(confusion_matrix(y_train, y_pred))\n",
    "\n",
    "c_mat = np.array(confusion_matrix(y_train, y_pred))\n",
    "\n",
    "y_pred = clf.predict(X_test)\n",
    "print(confusion_matrix(y_test, y_pred))\n",
    "\n",
    "c_mat[1] /  (c_mat[1] + c_mat[0])"
   ]
  },
  {
   "cell_type": "code",
   "execution_count": 144,
   "metadata": {},
   "outputs": [
    {
     "data": {
      "image/png": "[encoded data removed]",
      "text/plain": [
       "<matplotlib.figure.Figure at 0x10b136f28>"
      ]
     },
     "metadata": {},
     "output_type": "display_data"
    }
   ],
   "source": [
    "I = np.linspace(0,0.2,500)\n",
    "Specificity = []\n",
    "Sensitivity = []\n",
    "for i in I:\n",
    "    cc = c_mat[1] /  (c_mat[1]+c_mat[0]) > i\n",
    "    cc_pred_positive = c_mat.T[cc].sum(axis=0)\n",
    "    cc_pred_negative = c_mat.T[~cc].sum(axis=0)\n",
    "\n",
    "    precision = cc_pred_positive[1] / cc_pred_positive.sum()\n",
    "    specificity = 1 - cc_pred_positive[0] / (cc_pred_positive[0]+cc_pred_negative[0])\n",
    "    sensitivity = cc_pred_positive[1] / (cc_pred_positive[1]+cc_pred_negative[1]) #Recall\n",
    "\n",
    "    Specificity.append(specificity)\n",
    "    Sensitivity.append(sensitivity)\n",
    "    \n",
    "plt.plot(I, Specificity, 'r--', I, Sensitivity, 'b--')\n",
    "plt.show()"
   ]
  },
  {
   "cell_type": "markdown",
   "metadata": {},
   "source": [
    "### Plot GMM"
   ]
  },
  {
   "cell_type": "code",
   "execution_count": 100,
   "metadata": {
    "scrolled": true
   },
   "outputs": [
    {
     "data": {
      "image/png": "[encoded data removed]",
      "text/plain": [
       "<matplotlib.figure.Figure at 0x10a33ff60>"
      ]
     },
     "metadata": {},
     "output_type": "display_data"
    }
   ],
   "source": [
    "bic = np.array(bic)\n",
    "color_iter = itertools.cycle(['navy', 'turquoise', 'cornflowerblue',\n",
    "                              'darkorange'])\n",
    "bars = []\n",
    "\n",
    "# Plot the BIC scores\n",
    "spl = plt.subplot(2, 1, 1)\n",
    "for i, (cv_type, color) in enumerate(zip(cv_types, color_iter)):\n",
    "    xpos = np.array(n_components_range) + .2 * (i - 2)\n",
    "    bars.append(plt.bar(xpos, bic[i * len(n_components_range):\n",
    "                                  (i + 1) * len(n_components_range)],\n",
    "                        width=.2, color=color))\n",
    "plt.xticks(n_components_range)\n",
    "plt.ylim([bic.min() * 1.01 - .01 * bic.max(), bic.max()])\n",
    "plt.title('BIC score per model')\n",
    "xpos = np.mod(bic.argmin(), len(n_components_range)) + .65 +\\\n",
    "    .2 * np.floor(bic.argmin() / len(n_components_range))\n",
    "plt.text(xpos, bic.min() * 0.97 + .03 * bic.max(), '*', fontsize=14)\n",
    "spl.set_xlabel('Number of components')\n",
    "spl.legend([b[0] for b in bars], cv_types)\n",
    "\n",
    "# Plot the winner\n",
    "splot = plt.subplot(2, 1, 2)\n",
    "\n",
    "plt.show()"
   ]
  },
  {
   "cell_type": "code",
   "execution_count": null,
   "metadata": {},
   "outputs": [],
   "source": [
    "Y_ = clf.predict(X_test)\n",
    "for i, (mean, cov, color) in enumerate(zip(clf.means_, clf.covariances_,\n",
    "                                           color_iter)):\n",
    "    v, w = linalg.eigh(cov)\n",
    "    if not np.any(Y_ == i):\n",
    "        continue\n",
    "    plt.scatter(X_test[Y_ == i, 0], X_test[Y_ == i, 1], .8, color=color)\n",
    "\n",
    "    # Plot an ellipse to show the Gaussian component\n",
    "    angle = np.arctan2(w[0][1], w[0][0])\n",
    "    angle = 180. * angle / np.pi  # convert to degrees\n",
    "    v = 2. * np.sqrt(2.) * np.sqrt(v)\n",
    "    ell = mpl.patches.Ellipse(mean, v[0], v[1], 180. + angle, color=color)\n",
    "    ell.set_clip_box(splot.bbox)\n",
    "    ell.set_alpha(.5)\n",
    "    splot.add_artist(ell)\n",
    "\n",
    "plt.xticks(())\n",
    "plt.yticks(())\n",
    "plt.title('Selected GMM: full model, 2 components')\n",
    "plt.subplots_adjust(hspace=.35, bottom=.02)"
   ]
  },
  {
   "cell_type": "markdown",
   "metadata": {},
   "source": [
    "### ROC Curve and AUC"
   ]
  },
  {
   "cell_type": "code",
   "execution_count": 145,
   "metadata": {},
   "outputs": [
    {
     "data": {
      "text/plain": [
       "array([2.32504143e-034, 2.11828083e-026, 1.95237346e-023, ...,\n",
       "       1.23685060e-018, 1.15930300e-121, 1.58705068e-014])"
      ]
     },
     "execution_count": 145,
     "metadata": {},
     "output_type": "execute_result"
    }
   ],
   "source": [
    "# Only select the clusters with higher \n",
    "cc = c_mat[1] /  (c_mat[1]+c_mat[0]) > 0.1\n",
    "\n",
    "y_pred_prob = clf.predict_proba(X_test)\n",
    "\n",
    "y_pred_prob_positive = y_pred_prob.T[cc].sum(axis=0)\n",
    "y_pred_prob_negative = y_pred_prob.T[~cc].sum(axis=0)\n",
    "\n",
    "y_pred_prob_positive"
   ]
  },
  {
   "cell_type": "code",
   "execution_count": 146,
   "metadata": {},
   "outputs": [
    {
     "data": {
      "image/png": "[encoded data removed]",
      "text/plain": [
       "<matplotlib.figure.Figure at 0x10acc9710>"
      ]
     },
     "metadata": {},
     "output_type": "display_data"
    },
    {
     "name": "stdout",
     "output_type": "stream",
     "text": [
      "AUC: 0.9034080572655374\n"
     ]
    }
   ],
   "source": [
    "from sklearn.metrics import roc_curve, roc_auc_score\n",
    "from sklearn.model_selection import cross_val_score\n",
    "\n",
    "fpr, tpr, threshold = roc_curve(y_test, y_pred_prob_positive)\n",
    "\n",
    "plt.plot([0,1], [0,1], 'k--')\n",
    "plt.plot(fpr, tpr, label='Gaussian Mixture Model')\n",
    "plt.xlabel('False Positive Rate')\n",
    "plt.ylabel('True Positive Rate')\n",
    "plt.title('Gaussian Mixture Model ROC Curve')\n",
    "plt.show()\n",
    "\n",
    "print('AUC: {}'.format(roc_auc_score(y_test, y_pred_prob_positive)))"
   ]
  },
  {
   "cell_type": "code",
   "execution_count": 147,
   "metadata": {},
   "outputs": [
    {
     "name": "stdout",
     "output_type": "stream",
     "text": [
      "[[  80  363  114 1037 1137  157  308 3439 3784]\n",
      " [1268  616 1033   15   73   27   55  273  113]\n",
      " [   0    0    0    0    0    0    0    0    0]\n",
      " [   0    0    0    0    0    0    0    0    0]\n",
      " [   0    0    0    0    0    0    0    0    0]\n",
      " [   0    0    0    0    0    0    0    0    0]\n",
      " [   0    0    0    0    0    0    0    0    0]\n",
      " [   0    0    0    0    0    0    0    0    0]\n",
      " [   0    0    0    0    0    0    0    0    0]]\n",
      "[ True  True  True False False  True  True False False]\n"
     ]
    }
   ],
   "source": [
    "#y_pred = y_pred\n",
    "#c_mat = confusion_matrix(y_test, y_pred)\n",
    "print(c_mat)\n",
    "cc = c_mat[1] /  (c_mat[1]+c_mat[0]) > 0.1\n",
    "print(cc)\n",
    "c_mat_test = confusion_matrix(y_test, y_pred)\n",
    "cc_pred_positive = c_mat_test.T[cc].sum(axis=0)\n",
    "cc_pred_negative = c_mat_test.T[~cc].sum(axis=0)\n",
    "c_mat2D = np.hstack([cc_pred_negative[:2].reshape(-1,1),cc_pred_positive[:2].reshape(-1,1)])"
   ]
  },
  {
   "cell_type": "code",
   "execution_count": 148,
   "metadata": {},
   "outputs": [
    {
     "name": "stdout",
     "output_type": "stream",
     "text": [
      "[[450840  47413]\n",
      " [   235   1512]]\n",
      "0.9034080572655374 0.8654836863194046 0.8654836863194046 0.9048415162578047 0.030904445579969343\n"
     ]
    }
   ],
   "source": [
    "from sklearn.metrics import confusion_matrix, classification_report, roc_auc_score\n",
    "\n",
    "print(c_mat2D)\n",
    "\n",
    "#fdr score\n",
    "order = np.argsort(-y_pred_prob_positive)\n",
    "fdr_arr = np.cumsum(y_test[order])/np.sum(y_test)\n",
    "fdr_percent = np.arange(1,len(y_test)+1).astype(float)/len(y_test)\n",
    "\n",
    "fdr_rate = 0.1\n",
    "fdr_arr = np.vstack([fdr_percent, fdr_arr]).T\n",
    "fdr_arr = fdr_arr[fdr_percent < fdr_rate,:]\n",
    "fdr_arr = fdr_arr[np.argsort(-fdr_arr[:,0])]\n",
    "fdr = fdr_arr[0,1]\n",
    "\n",
    "auc = roc_auc_score(y_test, y_pred_prob_positive)\n",
    "specificity = 1 - c_mat2D[0][1] / (c_mat2D[0][0]+c_mat2D[0][1])\n",
    "sensitivity = c_mat2D[1][1] / (c_mat2D[1][0]+c_mat2D[1][1]) #Recall\n",
    "precision = c_mat2D[1][1] / (c_mat2D[0][1]+c_mat2D[1][1]) #Recall\n",
    "print(auc, fdr, sensitivity, specificity, precision)"
   ]
  }
 ],
 "metadata": {
  "kernelspec": {
   "display_name": "Python 3",
   "language": "python",
   "name": "python3"
  },
  "language_info": {
   "codemirror_mode": {
    "name": "ipython",
    "version": 3
   },
   "file_extension": ".py",
   "mimetype": "text/x-python",
   "name": "python",
   "nbconvert_exporter": "python",
   "pygments_lexer": "ipython3",
   "version": "3.6.4"
  }
 },
 "nbformat": 4,
 "nbformat_minor": 2
}
